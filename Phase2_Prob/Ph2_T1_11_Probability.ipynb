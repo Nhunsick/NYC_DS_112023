{
 "cells": [
  {
   "cell_type": "markdown",
   "metadata": {
    "slideshow": {
     "slide_type": "slide"
    }
   },
   "source": [
    "<div style=\"color:white;\n",
    "           display:fill;\n",
    "           border-radius:5px;\n",
    "           background-color:#5642C5;\n",
    "           font-size:200%;\n",
    "           font-family:Arial;letter-spacing:0.5px\">\n",
    "\n",
    "<p width = 20%, style=\"padding: 10px;\n",
    "              color:white;\">\n",
    "Probability: The Mathematics of Uncertainty\n",
    "              \n",
    "</p>\n",
    "</div>\n",
    "\n",
    "Data Science Cohort Live NYC Feb 2022\n",
    "<p>Phase 2: Topic 1</p>\n",
    "<br>\n",
    "<br>\n",
    "\n",
    "<div align = \"right\">\n",
    "<img src=\"Images/flatiron-school-logo.png\" align = \"right\" width=\"200\"/>\n",
    "</div>\n",
    "    \n",
    "    "
   ]
  },
  {
   "cell_type": "markdown",
   "metadata": {
    "cell_style": "center",
    "hidden": true,
    "slideshow": {
     "slide_type": "slide"
    }
   },
   "source": [
    "#### Probability theory\n",
    "\n",
    "- systematic understanding of processes with uncertainty.\n",
    "- quantification and manipulation of uncertainty\n",
    "\n",
    "\n",
    "\n"
   ]
  },
  {
   "cell_type": "markdown",
   "metadata": {
    "cell_style": "split",
    "slideshow": {
     "slide_type": "subslide"
    }
   },
   "source": [
    "E.g., driving along in the southern Australian outback:\n",
    "\n",
    "- Drive up on an adult koala\n",
    "- Ask if you can measure his/her height (consent is important!)\n",
    "- Measure the height"
   ]
  },
  {
   "cell_type": "markdown",
   "metadata": {
    "cell_style": "split",
    "slideshow": {
     "slide_type": "fragment"
    }
   },
   "source": [
    "<div align = \"center\">\n",
    "<img src=\"Images/surprised_koala.jpg\" align = \"center\" width=\"300\"/>\n",
    "</div>\n",
    "<center> A surprised koala.</center>"
   ]
  },
  {
   "cell_type": "code",
<<<<<<< HEAD
   "execution_count": 37,
=======
   "execution_count": 34,
>>>>>>> 3494219c22a99d8613813b3b4e27310006e90944
   "metadata": {
    "cell_style": "split",
    "slideshow": {
     "slide_type": "slide"
    }
   },
   "outputs": [],
   "source": [
    "from scipy.stats import norm\n",
    "koala_height_gen = \\\n",
    "(norm.rvs(loc = 75, scale = 15, size = 1) \n",
    " for x in range(500) )"
   ]
  },
  {
   "cell_type": "code",
<<<<<<< HEAD
   "execution_count": 38,
=======
   "execution_count": 35,
>>>>>>> 3494219c22a99d8613813b3b4e27310006e90944
   "metadata": {
    "cell_style": "split",
    "slideshow": {
     "slide_type": "fragment"
    }
   },
   "outputs": [
    {
     "data": {
      "text/plain": [
<<<<<<< HEAD
       "array([93.47581685])"
      ]
     },
     "execution_count": 38,
=======
       "array([66.53123358])"
      ]
     },
     "execution_count": 35,
>>>>>>> 3494219c22a99d8613813b3b4e27310006e90944
     "metadata": {},
     "output_type": "execute_result"
    }
   ],
   "source": [
    "# measure that surprised koala's height\n",
    "consenting_koala1 = next(koala_height_gen)\n",
    "consenting_koala1"
   ]
  },
  {
   "cell_type": "markdown",
   "metadata": {
    "slideshow": {
     "slide_type": "slide"
    }
   },
   "source": [
    "Now roll up on another unsuspecting, consenting koala:"
   ]
  },
  {
   "cell_type": "code",
<<<<<<< HEAD
   "execution_count": 39,
=======
   "execution_count": 38,
>>>>>>> 3494219c22a99d8613813b3b4e27310006e90944
   "metadata": {
    "cell_style": "split",
    "slideshow": {
     "slide_type": "fragment"
    }
   },
   "outputs": [
    {
     "data": {
      "text/plain": [
<<<<<<< HEAD
       "array([72.30626206])"
      ]
     },
     "execution_count": 39,
=======
       "array([63.33818571])"
      ]
     },
     "execution_count": 38,
>>>>>>> 3494219c22a99d8613813b3b4e27310006e90944
     "metadata": {},
     "output_type": "execute_result"
    }
   ],
   "source": [
    "# Drive up on another koala: \n",
    "consenting_koala2 = next(koala_height_gen)\n",
    "consenting_koala2"
   ]
  },
  {
   "cell_type": "code",
<<<<<<< HEAD
   "execution_count": 40,
=======
   "execution_count": 37,
>>>>>>> 3494219c22a99d8613813b3b4e27310006e90944
   "metadata": {
    "cell_style": "split",
    "slideshow": {
     "slide_type": "fragment"
    }
   },
   "outputs": [
    {
     "data": {
      "text/plain": [
<<<<<<< HEAD
       "array([93.47581685])"
      ]
     },
     "execution_count": 40,
=======
       "array([66.53123358])"
      ]
     },
     "execution_count": 37,
>>>>>>> 3494219c22a99d8613813b3b4e27310006e90944
     "metadata": {},
     "output_type": "execute_result"
    }
   ],
   "source": [
    "consenting_koala1"
   ]
  },
  {
   "cell_type": "markdown",
   "metadata": {
    "cell_style": "center",
    "slideshow": {
     "slide_type": "slide"
    }
   },
   "source": [
    "The outcome of the measurement of any given koala's height is unknown\n",
    "- the outcome is a *random* event.\n",
    "- uncertainty in what the value might be for any given koala\n"
   ]
  },
  {
   "cell_type": "markdown",
   "metadata": {
    "cell_style": "split",
    "slideshow": {
     "slide_type": "subslide"
    }
   },
   "source": [
    "But may want to quantify:\n",
    "\n",
    "- what, on the *average*, we might expect\n",
    "- quantify uncertainty (the characteristic range of values)\n",
    "- likelihood that a koala's height falls within a given range"
   ]
  },
  {
   "cell_type": "markdown",
   "metadata": {
    "cell_style": "split",
    "slideshow": {
     "slide_type": "fragment"
    }
   },
   "source": [
    "<div align = \"center\">\n",
    "<img src=\"Images/koala.png\" align = \"center\" width=\"300\"/>\n",
    "</div>\n",
    "<center> Average koala height of 75 cm </center>"
   ]
  },
  {
   "cell_type": "markdown",
   "metadata": {
    "slideshow": {
     "slide_type": "subslide"
    }
   },
   "source": [
    "#### This sort of quantification of uncertainty\n",
    "- Absolutely central to data science\n",
    "- Making predictions and classifications most probable given limited information.\n",
    "    - i.e. in the face of uncertainty"
   ]
  },
  {
   "cell_type": "markdown",
   "metadata": {
    "cell_style": "split",
    "slideshow": {
     "slide_type": "slide"
    }
   },
   "source": [
    "**Building a classifier: a common data science / machine-learning task**\n",
    "\n",
    "<div align = \"center\">\n",
    "<img src=\"Images/southern_vs_northern_koala.jpg\" align = \"center\" width=\"300\"/>\n",
    "</div>\n",
    "<center> Southern vs. northern koala </center>\n"
   ]
  },
  {
   "cell_type": "markdown",
   "metadata": {
    "cell_style": "split",
    "slideshow": {
     "slide_type": "fragment"
    }
   },
   "source": [
    "We are told a koala weighs 22 lbs. Is this a southern or a northern koala?"
   ]
  },
  {
   "cell_type": "markdown",
   "metadata": {
    "cell_style": "split",
    "slideshow": {
     "slide_type": "fragment"
    }
   },
   "source": [
    "A statistically sound determination of subspecies based on weight will depend on:\n",
    "- characteristic range (e.g, mean / standard deviation) of Southern koala\n",
    "- characteristic range (e.g, mean / standard deviation) of northern koala\n",
    "\n",
    "E.g. the statistical distributions of both populations."
   ]
  },
  {
   "cell_type": "code",
   "execution_count": 41,
   "metadata": {
    "slideshow": {
     "slide_type": "skip"
    }
   },
   "outputs": [],
   "source": [
    "%%capture koalaweights\n",
    "\n",
    "# Weight distributions of northern vs southern koalas\n",
    "import matplotlib.pyplot as plt\n",
    "\n",
    "southern_koala = norm.rvs(loc = 24, scale = 2.5, size = 800, random_state = 42)\n",
    "northern_koala = norm.rvs(loc = 14, scale = 3, size = 800, random_state = 42)\n",
    "\n",
    "fig, ax = plt.subplots()\n",
    "\n",
    "ax.hist(southern_koala, color = 'r', histtype = 'step')\n",
    "ax.hist(northern_koala, color = 'b', histtype = 'step')\n",
    "ax.set_xlabel('Koala weight [lbs]')\n",
    "ax.set_ylabel('Counts')\n",
    "ax.axvline(22, c = 'g', linestyle = '--')\n",
    "plt.annotate('Our Koala', xy = (22, 200), xytext = (16.5, 210), size = 11, c = 'g')\n",
    "plt.annotate('Northern Koala', xy = (4, 190), xytext = (4, 190), size = 11, c = 'b')\n",
    "plt.annotate('Southern Koala', xy = (26, 190), xytext = (26, 190), size = 11, c = 'r')\n",
    "\n",
    "plt.show()"
   ]
  },
  {
   "cell_type": "code",
   "execution_count": 42,
   "metadata": {
    "cell_style": "split",
    "slideshow": {
     "slide_type": "slide"
    }
   },
   "outputs": [
    {
     "data": {
      "image/png": "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",
      "text/plain": [
       "<Figure size 640x480 with 1 Axes>"
      ]
     },
     "metadata": {},
     "output_type": "display_data"
    }
   ],
   "source": [
    "koalaweights()"
   ]
  },
  {
   "cell_type": "markdown",
   "metadata": {
    "cell_style": "split",
    "slideshow": {
     "slide_type": "fragment"
    }
   },
   "source": [
    "Weight measurement:\n",
    "- Is our koala a northern or southern Koala?"
   ]
  },
  {
   "cell_type": "markdown",
   "metadata": {
    "cell_style": "split",
    "slideshow": {
     "slide_type": "fragment"
    }
   },
   "source": [
    "Quantification of: \n",
    "\n",
    "- the sub-population means\n",
    "- their spreads (uncertainty)\n",
    "- probability that a southern (northern) koala would have weight 22"
   ]
  },
  {
   "cell_type": "markdown",
   "metadata": {
    "slideshow": {
     "slide_type": "slide"
    }
   },
   "source": [
    "#### Probability theory: the branch of mathematics \n",
    "- lets us reason and calculate these various quantities derived from random events"
   ]
  },
  {
   "cell_type": "markdown",
   "metadata": {
    "cell_style": "split",
    "slideshow": {
     "slide_type": "slide"
    }
   },
   "source": [
    "#### Random processes, outcomes, and sample spaces:\n",
    "\n",
    "Random process: \n",
    "\n",
    "- repeated query or measurement of given quantity does not produce reproducible outcome\n",
    "\n",
    "\n",
    "\n"
   ]
  },
  {
   "cell_type": "markdown",
   "metadata": {
    "cell_style": "split",
    "slideshow": {
     "slide_type": "fragment"
    }
   },
   "source": [
    "Example: throwing a fair die\n",
    "\n",
    "<center><img src=\"Images/dice.jpg\" width=\"400\"/></center>\n",
    "\n"
   ]
  },
  {
   "cell_type": "markdown",
   "metadata": {
    "cell_style": "center",
    "slideshow": {
     "slide_type": "slide"
    }
   },
   "source": [
    "Result of a given throw? Random process.\n",
    "\n",
    "- Possible outcomes: 1, 2, 3, 4, 5, 6\n",
    "- Sample space $\\Omega$: set of all possible outcomes of a trial:\n",
    "    - $ \\Omega = \\{1, 2, 3, 4, 5, 6\\} $"
   ]
  },
  {
   "cell_type": "markdown",
   "metadata": {
    "slideshow": {
     "slide_type": "subslide"
    }
   },
   "source": [
    "Sample space type: Discrete and finite\n",
    "\n",
    "- outcomes can be represented simply as a finite set."
   ]
  },
  {
   "cell_type": "code",
   "execution_count": 43,
   "metadata": {
    "cell_style": "split",
    "slideshow": {
     "slide_type": "fragment"
    }
   },
   "outputs": [
    {
     "name": "stdout",
     "output_type": "stream",
     "text": [
      "<class 'set'>\n"
     ]
    },
    {
     "data": {
      "text/plain": [
       "{1, 2, 3, 4, 5, 6}"
      ]
     },
     "execution_count": 43,
     "metadata": {},
     "output_type": "execute_result"
    }
   ],
   "source": [
    "die_sample_space = {1, 2, 3, 4, 5, 6}\n",
    "print(type(die_sample_space))\n",
    "die_sample_space"
   ]
  },
  {
   "cell_type": "markdown",
   "metadata": {
    "cell_style": "split",
    "slideshow": {
     "slide_type": "fragment"
    }
   },
   "source": [
    "Python has a special datatype for sets:\n",
    "- many set specific operations:\n",
    "    - intersection\n",
    "    - union\n",
    "    - difference\n",
    "    - etc."
   ]
  },
  {
   "cell_type": "markdown",
   "metadata": {
    "slideshow": {
     "slide_type": "slide"
    }
   },
   "source": [
    "Results for a given throw are drawn **at random** from this sample space set."
   ]
  },
  {
   "cell_type": "code",
<<<<<<< HEAD
   "execution_count": 44,
=======
   "execution_count": 39,
>>>>>>> 3494219c22a99d8613813b3b4e27310006e90944
   "metadata": {
    "cell_style": "split",
    "slideshow": {
     "slide_type": "slide"
    }
   },
   "outputs": [],
   "source": [
    "# base python's library for all thing random\n",
    "import random"
   ]
  },
  {
   "cell_type": "markdown",
   "metadata": {
    "cell_style": "split",
    "slideshow": {
     "slide_type": "fragment"
    }
   },
   "source": [
    "Rolling a fair die: this samples the set evenly."
   ]
  },
  {
   "cell_type": "code",
<<<<<<< HEAD
   "execution_count": 45,
=======
   "execution_count": 51,
>>>>>>> 3494219c22a99d8613813b3b4e27310006e90944
   "metadata": {
    "cell_style": "split",
    "slideshow": {
     "slide_type": "fragment"
    }
   },
   "outputs": [
    {
     "data": {
      "text/plain": [
<<<<<<< HEAD
       "[6]"
      ]
     },
     "execution_count": 45,
=======
       "[1]"
      ]
     },
     "execution_count": 51,
>>>>>>> 3494219c22a99d8613813b3b4e27310006e90944
     "metadata": {},
     "output_type": "execute_result"
    }
   ],
   "source": [
    "random.sample(list(die_sample_space), 1)"
   ]
  },
  {
   "cell_type": "markdown",
   "metadata": {
    "slideshow": {
     "slide_type": "slide"
    }
   },
   "source": [
    "#### The event space \n",
    "- $ B $, the event space, is the set of all subsets of sample space $\\Omega$."
   ]
  },
  {
   "cell_type": "code",
   "execution_count": 46,
   "metadata": {
    "slideshow": {
     "slide_type": "subslide"
    }
   },
   "outputs": [
    {
     "name": "stdout",
     "output_type": "stream",
     "text": [
      "[set(), {1}, {2}, {1, 2}, {3}, {1, 3}, {2, 3}, {1, 2, 3}, {4}, {1, 4}, {2, 4}, {1, 2, 4}, {3, 4}, {1, 3, 4}, {2, 3, 4}, {1, 2, 3, 4}, {5}, {1, 5}, {2, 5}, {1, 2, 5}, {3, 5}, {1, 3, 5}, {2, 3, 5}, {1, 2, 3, 5}, {4, 5}, {1, 4, 5}, {2, 4, 5}, {1, 2, 4, 5}, {3, 4, 5}, {1, 3, 4, 5}, {2, 3, 4, 5}, {1, 2, 3, 4, 5}, {6}, {1, 6}, {2, 6}, {1, 2, 6}, {3, 6}, {1, 3, 6}, {2, 3, 6}, {1, 2, 3, 6}, {4, 6}, {1, 4, 6}, {2, 4, 6}, {1, 2, 4, 6}, {3, 4, 6}, {1, 3, 4, 6}, {2, 3, 4, 6}, {1, 2, 3, 4, 6}, {5, 6}, {1, 5, 6}, {2, 5, 6}, {1, 2, 5, 6}, {3, 5, 6}, {1, 3, 5, 6}, {2, 3, 5, 6}, {1, 2, 3, 5, 6}, {4, 5, 6}, {1, 4, 5, 6}, {2, 4, 5, 6}, {1, 2, 4, 5, 6}, {3, 4, 5, 6}, {1, 3, 4, 5, 6}, {2, 3, 4, 5, 6}, {1, 2, 3, 4, 5, 6}]\n"
     ]
    }
   ],
   "source": [
    "from functools import reduce\n",
    "\n",
    "ps = lambda s: reduce(lambda P, x: P + [subset | {x} for subset in P], s, [set()])\n",
    "\n",
    "die_event_space = ps(die_sample_space)\n",
    "print(die_event_space)"
   ]
  },
  {
   "cell_type": "markdown",
   "metadata": {
    "cell_style": "split",
    "slideshow": {
     "slide_type": "fragment"
    }
   },
   "source": [
    "Each element of the event space:\n",
    "- a set corresponding to a subset of observations in $\\Omega$"
   ]
  },
  {
   "cell_type": "markdown",
   "metadata": {
    "cell_style": "split"
   },
   "source": [
    "For result of a roll we ask:\n",
    "\n",
    "Did we get either a 1, 2 or 4? Getting a 1, 2 or 4 is an **event**."
   ]
  },
  {
   "cell_type": "code",
   "execution_count": 47,
   "metadata": {
    "cell_style": "split"
   },
   "outputs": [
    {
     "data": {
      "text/plain": [
       "{1, 2, 4}"
      ]
     },
     "execution_count": 47,
     "metadata": {},
     "output_type": "execute_result"
    }
   ],
   "source": [
    "# An event example:\n",
    "die_event_space[11]"
   ]
  },
  {
   "cell_type": "markdown",
   "metadata": {
    "slideshow": {
     "slide_type": "slide"
    }
   },
   "source": [
    "Note that event space contains:\n",
    "- sample space $\\Omega$"
   ]
  },
  {
   "cell_type": "code",
   "execution_count": 48,
   "metadata": {
    "cell_style": "split",
    "slideshow": {
     "slide_type": "fragment"
    }
   },
   "outputs": [
    {
     "data": {
      "text/plain": [
       "True"
      ]
     },
     "execution_count": 48,
     "metadata": {},
     "output_type": "execute_result"
    }
   ],
   "source": [
    "die_sample_space in die_event_space"
   ]
  },
  {
   "cell_type": "code",
   "execution_count": 49,
   "metadata": {
    "cell_style": "split",
    "slideshow": {
     "slide_type": "-"
    }
   },
   "outputs": [
    {
     "data": {
      "text/plain": [
       "{1, 2, 3, 4, 5, 6}"
      ]
     },
     "execution_count": 49,
     "metadata": {},
     "output_type": "execute_result"
    }
   ],
   "source": [
    "die_event_space[-1]"
   ]
  },
  {
   "cell_type": "markdown",
   "metadata": {
    "cell_style": "split",
    "slideshow": {
     "slide_type": "slide"
    }
   },
   "source": [
    "**Probability**\n",
    "\n",
    "A function $$ P: B \\rightarrow \\mathbb{R} $$\n",
    "\n",
    "maps from the event space to a real number."
   ]
  },
  {
   "cell_type": "markdown",
   "metadata": {
    "cell_style": "split",
    "slideshow": {
     "slide_type": "fragment"
    }
   },
   "source": [
    "e.g.:\n",
    "    \n",
    "$$ P(\\{1\\}) = \\frac{1}{6} $$\n",
    "$$ P(\\{1, 2, 4\\}) = \\frac{1}{2} $$ "
   ]
  },
  {
   "cell_type": "markdown",
   "metadata": {
    "cell_style": "center",
    "slideshow": {
     "slide_type": "slide"
    }
   },
   "source": [
    "The probability function must satisfy a few requirements:\n",
    "\n",
    "**Requirement 1**\n",
    "\n",
    "$$ P(b) \\geq 0, \\forall b \\in B $$\n",
    "\n",
    "A probability must be positive."
   ]
  },
  {
   "cell_type": "markdown",
   "metadata": {
    "slideshow": {
     "slide_type": "subslide"
    }
   },
   "source": [
    "**Requirement 2**\n",
    "\n",
    "$$ P(\\Omega) = 1 $$\n",
    "\n",
    "or\n",
    "\n",
    "$$ P(\\{1,2,3,4,5,6\\}) = 1 $$\n",
    "\n",
    "The probability of getting any of the possibility outcomes of a trial must be 1."
   ]
  },
  {
   "cell_type": "markdown",
   "metadata": {
    "cell_style": "split",
    "slideshow": {
     "slide_type": "slide"
    }
   },
   "source": [
    "**Requirement 3**\n",
    "\n",
    "The union of mutually exclusive events must satisfy:\n",
    "\n",
    "$$ P\\Big(\\bigcup_i b_i\\Big) = \\sum_i P(b_i)$$"
   ]
  },
  {
   "cell_type": "markdown",
   "metadata": {
    "cell_style": "split",
    "slideshow": {
     "slide_type": "fragment"
    }
   },
   "source": [
    "Seems abstract but is pretty sensible:\n",
    "\n",
    "$$ P(\\{1,2,3\\})  = P(\\{1\\} \\cup \\{2\\} \\cup \\{3\\} ) \\\\ = P(\\{1\\}) + P(\\{2\\}) + P(\\{3\\}) = \\\\ \\frac{1}{6} + \\frac{1}{6} + \\frac{1}{6} = \\frac{1}{2} $$"
   ]
  },
  {
   "cell_type": "markdown",
   "metadata": {
    "slideshow": {
     "slide_type": "slide"
    }
   },
   "source": [
    "We can define this in code with a function that maps sets to a number:\n",
    "\n",
    "- Do this for a fair die as example."
   ]
  },
  {
   "cell_type": "code",
<<<<<<< HEAD
   "execution_count": 50,
=======
   "execution_count": 52,
>>>>>>> 3494219c22a99d8613813b3b4e27310006e90944
   "metadata": {
    "slideshow": {
     "slide_type": "subslide"
    }
   },
   "outputs": [],
   "source": [
    "from math import isclose\n",
    "\n",
    "def proba(input_event, sample_space, proba_dict = None):\n",
    "    \n",
    "    if proba_dict == None:\n",
    "        # get number of elements (should be 6 for our die)\n",
    "        N = len(sample_space)\n",
    "        \n",
    "        # probabilities for single outcome events assuming uniform distribution\n",
    "        proba_dict = {obs: 1/N for obs in sample_space}\n",
    "        \n",
    "    else:\n",
    "        # values of dict would need to change if not uniform probabilities\n",
    "        proba_dict = proba_dict\n",
    "        \n",
    "    # first check if probabilities are greater than = 0 and probabilities sums to 1.\n",
    "    if isclose(sum(proba_dict.values()), 1) & all(p >= 0 for p in proba_dict.values()):\n",
    "        \n",
    "        event_prob = sum([proba_dict[elem] for elem in input_event])\n",
    "        \n",
    "        return event_prob\n",
    "    else:\n",
    "        print('Probabilities not valid for single outcome events.')\n",
    "        pass"
   ]
  },
  {
   "cell_type": "markdown",
   "metadata": {
    "cell_style": "split",
    "slideshow": {
     "slide_type": "slide"
    }
   },
   "source": [
    "Construct sample space $\\Omega$ for six-sided dice.\n",
    "\n",
    "- Since fair, function assumes uniform probability."
   ]
  },
  {
   "cell_type": "code",
<<<<<<< HEAD
   "execution_count": 51,
=======
   "execution_count": 53,
>>>>>>> 3494219c22a99d8613813b3b4e27310006e90944
   "metadata": {
    "cell_style": "split",
    "slideshow": {
     "slide_type": "fragment"
    }
   },
   "outputs": [],
   "source": [
    "# define sample space\n",
    "S = {1,2,3,4,5,6}"
   ]
  },
  {
   "cell_type": "code",
<<<<<<< HEAD
   "execution_count": 52,
=======
   "execution_count": 54,
>>>>>>> 3494219c22a99d8613813b3b4e27310006e90944
   "metadata": {
    "cell_style": "split",
    "slideshow": {
     "slide_type": "fragment"
    }
   },
   "outputs": [
    {
     "data": {
      "text/plain": [
       "0.16666666666666666"
      ]
     },
<<<<<<< HEAD
     "execution_count": 52,
=======
     "execution_count": 54,
>>>>>>> 3494219c22a99d8613813b3b4e27310006e90944
     "metadata": {},
     "output_type": "execute_result"
    }
   ],
   "source": [
    "# evaluate probability for throwing a 3\n",
    "proba({6}, S)"
   ]
  },
  {
   "cell_type": "markdown",
   "metadata": {
    "slideshow": {
     "slide_type": "slide"
    }
   },
   "source": [
    "Does this function satisfy requirements?"
   ]
  },
  {
   "cell_type": "markdown",
   "metadata": {
    "slideshow": {
     "slide_type": "slide"
    }
   },
   "source": [
    "**Requirement 1**"
   ]
  },
  {
   "cell_type": "code",
   "execution_count": 53,
   "metadata": {
    "cell_style": "split",
    "slideshow": {
     "slide_type": "fragment"
    }
   },
   "outputs": [
    {
     "data": {
      "text/plain": [
       "1.0"
      ]
     },
     "execution_count": 53,
     "metadata": {},
     "output_type": "execute_result"
    }
   ],
   "source": [
    "proba_dict2 = {1: .1, 2: -.1, 3: .4,\n",
    "               4: .1, 5: .25, 6: .25}\n",
    "sum(proba_dict2.values())"
   ]
  },
  {
   "cell_type": "code",
   "execution_count": 54,
   "metadata": {
    "cell_style": "split",
    "slideshow": {
     "slide_type": "fragment"
    }
   },
   "outputs": [
    {
     "name": "stdout",
     "output_type": "stream",
     "text": [
      "Probabilities not valid for single outcome events.\n"
     ]
    }
   ],
   "source": [
    "proba({1,2}, S, proba_dict2)"
   ]
  },
  {
   "cell_type": "markdown",
   "metadata": {
    "cell_style": "split",
    "slideshow": {
     "slide_type": "fragment"
    }
   },
   "source": [
    "Probabilities must be greater than zero."
   ]
  },
  {
   "cell_type": "markdown",
   "metadata": {
    "slideshow": {
     "slide_type": "slide"
    }
   },
   "source": [
    "**Requirement 2**"
   ]
  },
  {
   "cell_type": "code",
   "execution_count": 55,
   "metadata": {
    "cell_style": "split",
    "scrolled": true,
    "slideshow": {
     "slide_type": "fragment"
    }
   },
   "outputs": [
    {
     "data": {
      "text/plain": [
       "0.9999999999999999"
      ]
     },
     "execution_count": 55,
     "metadata": {},
     "output_type": "execute_result"
    }
   ],
   "source": [
    "# the probability when the event \n",
    "# is the entire sample space\n",
    "proba(S, S)"
   ]
  },
  {
   "cell_type": "markdown",
   "metadata": {
    "cell_style": "split",
    "slideshow": {
     "slide_type": "fragment"
    }
   },
   "source": [
    "Apart from an issue with floats:\n",
    "- Yes this satisfies axiom 2."
   ]
  },
  {
   "cell_type": "markdown",
   "metadata": {
    "slideshow": {
     "slide_type": "slide"
    }
   },
   "source": [
    "**Requirement 3**"
   ]
  },
  {
   "cell_type": "code",
   "execution_count": 56,
   "metadata": {
    "cell_style": "split",
    "slideshow": {
     "slide_type": "slide"
    }
   },
   "outputs": [
    {
     "data": {
      "text/plain": [
       "{2, 3, 5}"
      ]
     },
     "execution_count": 56,
     "metadata": {},
     "output_type": "execute_result"
    }
   ],
   "source": [
    "event_A = {2}\n",
    "event_B = {5}\n",
    "event_C = {3}\n",
    "nonoverlap_union = \\\n",
    "event_A.union(event_B).union(event_C)\n",
    "nonoverlap_union"
   ]
  },
  {
   "cell_type": "code",
<<<<<<< HEAD
   "execution_count": 57,
=======
   "execution_count": 55,
>>>>>>> 3494219c22a99d8613813b3b4e27310006e90944
   "metadata": {
    "cell_style": "split",
    "slideshow": {
     "slide_type": "fragment"
    }
   },
   "outputs": [
    {
     "data": {
      "text/plain": [
       "0.5"
      ]
     },
<<<<<<< HEAD
     "execution_count": 57,
=======
     "execution_count": 55,
>>>>>>> 3494219c22a99d8613813b3b4e27310006e90944
     "metadata": {},
     "output_type": "execute_result"
    }
   ],
   "source": [
    "proba(nonoverlap_union, S)"
   ]
  },
  {
   "cell_type": "code",
<<<<<<< HEAD
   "execution_count": 58,
=======
   "execution_count": 56,
>>>>>>> 3494219c22a99d8613813b3b4e27310006e90944
   "metadata": {
    "cell_style": "split",
    "slideshow": {
     "slide_type": "fragment"
    }
   },
   "outputs": [
    {
     "data": {
      "text/plain": [
       "0.5"
      ]
     },
<<<<<<< HEAD
     "execution_count": 58,
=======
     "execution_count": 56,
>>>>>>> 3494219c22a99d8613813b3b4e27310006e90944
     "metadata": {},
     "output_type": "execute_result"
    }
   ],
   "source": [
    "proba(event_A, S) + proba(event_B, S) + proba(event_C, S) "
   ]
  },
  {
   "cell_type": "markdown",
   "metadata": {
    "slideshow": {
     "slide_type": "slide"
    }
   },
   "source": [
    "These three axioms, the notion of sample space $\\Omega$ and the event space $B$ define the **probability space**:\n",
    "    $$ (\\Omega, B, P) $$\n",
    "- Armed with this, notions from set theory, and other branches of math:\n",
    "    - entire framework for quantifying chance and uncertainty\n",
    "    - deriving relationships between random events/uncertainties "
   ]
  },
  {
   "cell_type": "markdown",
   "metadata": {
    "slideshow": {
     "slide_type": "slide"
    }
   },
   "source": [
    "An example of such a relation:"
   ]
  },
  {
   "cell_type": "markdown",
   "metadata": {
    "cell_style": "split",
    "slideshow": {
     "slide_type": "fragment"
    }
   },
   "source": [
    "If events $A$ and $B$ are NOT mutually exclusive:\n",
    "\n",
    "$$P(\\{A\\}\\cup\\{B\\}) = P(\\{A\\}) + P(\\{B\\})  \\\\ - P(A\\cap B)$$\n",
    "\n",
    "where $\\cap$ denotes intersection of sets."
   ]
  },
  {
   "cell_type": "markdown",
   "metadata": {
    "cell_style": "split",
    "slideshow": {
     "slide_type": "fragment"
    }
   },
   "source": [
    "<center><img src=\"Images/aunionB.png\" width=\"400\"/></center>\n"
   ]
  },
  {
   "cell_type": "markdown",
   "metadata": {
    "slideshow": {
     "slide_type": "subslide"
    }
   },
   "source": [
    "Reasonable, but can also be proved from first three axioms and notions from set theory."
   ]
  },
  {
   "cell_type": "markdown",
   "metadata": {
    "cell_style": "center",
    "slideshow": {
     "slide_type": "slide"
    }
   },
   "source": [
    "**A concrete example**\n",
    "- Calculating probabilities for union of two non-mutually exclusive events"
   ]
  },
  {
   "cell_type": "code",
<<<<<<< HEAD
   "execution_count": 59,
=======
   "execution_count": 57,
>>>>>>> 3494219c22a99d8613813b3b4e27310006e90944
   "metadata": {
    "cell_style": "split",
    "slideshow": {
     "slide_type": "fragment"
    }
   },
   "outputs": [
    {
     "data": {
      "text/plain": [
       "{1, 2, 3, 4}"
      ]
     },
<<<<<<< HEAD
     "execution_count": 59,
=======
     "execution_count": 57,
>>>>>>> 3494219c22a99d8613813b3b4e27310006e90944
     "metadata": {},
     "output_type": "execute_result"
    }
   ],
   "source": [
    "A = {1,2,3}\n",
    "B = {2,3,4}\n",
    "\n",
    "A.union(B)"
   ]
  },
  {
   "cell_type": "code",
   "execution_count": 60,
   "metadata": {
    "cell_style": "split",
    "slideshow": {
     "slide_type": "fragment"
    }
   },
   "outputs": [
    {
     "data": {
      "text/plain": [
       "0.6666666666666667"
      ]
     },
     "execution_count": 60,
     "metadata": {},
     "output_type": "execute_result"
    }
   ],
   "source": [
    "proba(A, S) + proba(B, S) - proba(A.intersection(B), S)"
   ]
  },
  {
   "cell_type": "code",
   "execution_count": 61,
   "metadata": {
    "cell_style": "split",
    "slideshow": {
     "slide_type": "fragment"
    }
   },
   "outputs": [
    {
     "data": {
      "text/plain": [
       "0.6666666666666666"
      ]
     },
     "execution_count": 61,
     "metadata": {},
     "output_type": "execute_result"
    }
   ],
   "source": [
    "proba(A.union(B), S)"
   ]
  },
  {
   "cell_type": "markdown",
   "metadata": {
    "slideshow": {
     "slide_type": "slide"
    }
   },
   "source": [
    " Many other interesting relations and inequalities between probabilities of elements in an event space.\n",
    " \n",
    " **The province of probability theory**"
   ]
  },
  {
   "cell_type": "markdown",
   "metadata": {
    "cell_style": "split",
    "slideshow": {
     "slide_type": "slide"
    }
   },
   "source": [
    "#### Connection with statistics\n",
    "\n",
    " probabilities to elements of event space:\n",
    "- corresponding to result of single outcome\n",
    "\n",
    "e.g. Assigned $\\{1\\}$, $\\{2\\}$, $ \\{3\\} $ ..."
   ]
  },
  {
   "cell_type": "markdown",
   "metadata": {
    "cell_style": "split",
    "slideshow": {
     "slide_type": "fragment"
    }
   },
   "source": [
    "Did this with proba_dict:"
   ]
  },
  {
   "cell_type": "code",
   "execution_count": 62,
   "metadata": {
    "cell_style": "split",
    "slideshow": {
     "slide_type": "fragment"
    }
   },
   "outputs": [
    {
     "data": {
      "text/plain": [
       "1.0000000000000002"
      ]
     },
     "execution_count": 62,
     "metadata": {},
     "output_type": "execute_result"
    }
   ],
   "source": [
    "# values for a loaded die\n",
    "proba_dict3 = {1: .1, 2: .1, 3: .4,\n",
    "               4: .1, 5: .2, 6: .1}\n",
    "sum(proba_dict3.values())"
   ]
  },
  {
   "cell_type": "markdown",
   "metadata": {
    "slideshow": {
     "slide_type": "fragment"
    }
   },
   "source": [
    "But how do we actually get these probability values?"
   ]
  },
  {
   "cell_type": "markdown",
   "metadata": {
    "cell_style": "split",
    "slideshow": {
     "slide_type": "slide"
    }
   },
   "source": [
    "<center><img src=\"Images/throwing-dice-quavo.gif\" width=\"400\"/></center>\n",
    "\n",
    "<center> Quavo knows the importance of repeated, statistical trials. </center>"
   ]
  },
  {
   "cell_type": "markdown",
   "metadata": {
    "cell_style": "split",
    "slideshow": {
     "slide_type": "fragment"
    }
   },
   "source": [
    "Statistics: where the real world meets probability theory.\n",
    "\n",
    "Repeat trial on die:\n",
    "- Tabulate frequencies"
   ]
  },
  {
   "cell_type": "markdown",
   "metadata": {
    "slideshow": {
     "slide_type": "slide"
    }
   },
   "source": [
    "We will do this by simulation:"
   ]
  },
  {
   "cell_type": "code",
   "execution_count": 63,
   "metadata": {
    "cell_style": "split",
    "slideshow": {
     "slide_type": "fragment"
    }
   },
   "outputs": [
    {
     "name": "stdout",
     "output_type": "stream",
     "text": [
      "0     3\n",
      "1     5\n",
      "2     2\n",
      "3     2\n",
      "4     6\n",
      "5     6\n",
      "6     2\n",
      "7     6\n",
      "8     1\n",
      "9     3\n",
      "10    1\n",
      "11    4\n",
      "12    1\n",
      "13    2\n",
      "14    6\n",
      "15    4\n",
      "16    3\n",
      "17    2\n",
      "18    1\n",
      "19    3\n",
      "dtype: int64\n"
     ]
    }
   ],
   "source": [
    "# randint is the discrete uniform distribution\n",
    "from scipy.stats import randint\n",
    "import pandas as pd\n",
    "\n",
    "# generates samples from integers \n",
    "# between 1 to 6\n",
    "dice_sides = 6\n",
    "N = 20\n",
    "trial_results = pd.Series(\n",
    "    randint.rvs(1, dice_sides+1, size = N))\n",
    "print(trial_results)"
   ]
  },
  {
   "cell_type": "code",
<<<<<<< HEAD
   "execution_count": 64,
=======
   "execution_count": 58,
>>>>>>> 3494219c22a99d8613813b3b4e27310006e90944
   "metadata": {
    "cell_style": "split",
    "slideshow": {
     "slide_type": "fragment"
    }
   },
   "outputs": [],
   "source": [
    "rel_frequency = trial_results.value_counts(\n",
    "    normalize = True).sort_index()\n"
   ]
  },
  {
   "cell_type": "code",
   "execution_count": 65,
   "metadata": {
    "cell_style": "split",
    "slideshow": {
     "slide_type": "subslide"
    }
   },
   "outputs": [
    {
     "data": {
      "image/png": "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",
      "text/plain": [
       "<Figure size 640x480 with 1 Axes>"
      ]
     },
     "metadata": {},
     "output_type": "display_data"
    }
   ],
   "source": [
    "fig, ax = plt.subplots()\n",
    "rel_frequency.plot(kind = 'bar',\n",
    "                   ax = ax)\n",
    "\n",
    "ax.set_xlabel('Roll result')\n",
    "ax.set_ylabel('Relative frequency')\n",
    "\n",
    "plt.show()"
   ]
  },
  {
   "cell_type": "markdown",
   "metadata": {
    "cell_style": "split",
    "slideshow": {
     "slide_type": "slide"
    }
   },
   "source": [
    "For a finite number of roles:\n",
    "- relative frequencies on given run not equal to fair die expectations\n",
    "- fluctuations in relative frequencies from run to run"
   ]
  },
  {
   "cell_type": "code",
<<<<<<< HEAD
   "execution_count": 66,
=======
   "execution_count": 59,
>>>>>>> 3494219c22a99d8613813b3b4e27310006e90944
   "metadata": {
    "cell_style": "center",
    "slideshow": {
     "slide_type": "slide"
    }
   },
   "outputs": [],
   "source": [
    "def die_simulator_freq(die_sides, num_trials):\n",
    "    \n",
    "    # generate samples\n",
    "    trial_results = pd.Series(randint.rvs(1, die_sides+1, size = num_trials))\n",
    "    \n",
    "    # create relative frequency series\n",
    "    rel_frequency = pd.DataFrame(trial_results.value_counts(normalize = True).sort_index()).reset_index()\n",
    "    rel_frequency.rename(columns = {'index': 'die_face', 0: 'rel_freq'}, inplace = True)\n",
    "    return rel_frequency"
   ]
  },
  {
   "cell_type": "code",
<<<<<<< HEAD
   "execution_count": 67,
=======
   "execution_count": 60,
>>>>>>> 3494219c22a99d8613813b3b4e27310006e90944
   "metadata": {},
   "outputs": [
    {
     "data": {
      "text/html": [
       "<div>\n",
       "<style scoped>\n",
       "    .dataframe tbody tr th:only-of-type {\n",
       "        vertical-align: middle;\n",
       "    }\n",
       "\n",
       "    .dataframe tbody tr th {\n",
       "        vertical-align: top;\n",
       "    }\n",
       "\n",
       "    .dataframe thead th {\n",
       "        text-align: right;\n",
       "    }\n",
       "</style>\n",
       "<table border=\"1\" class=\"dataframe\">\n",
       "  <thead>\n",
       "    <tr style=\"text-align: right;\">\n",
       "      <th></th>\n",
       "      <th>die_face</th>\n",
       "      <th>proportion</th>\n",
       "    </tr>\n",
       "  </thead>\n",
       "  <tbody>\n",
       "    <tr>\n",
       "      <th>0</th>\n",
       "      <td>1</td>\n",
<<<<<<< HEAD
       "      <td>0.21</td>\n",
=======
       "      <td>0.13</td>\n",
>>>>>>> 3494219c22a99d8613813b3b4e27310006e90944
       "    </tr>\n",
       "    <tr>\n",
       "      <th>1</th>\n",
       "      <td>2</td>\n",
<<<<<<< HEAD
       "      <td>0.15</td>\n",
=======
       "      <td>0.21</td>\n",
>>>>>>> 3494219c22a99d8613813b3b4e27310006e90944
       "    </tr>\n",
       "    <tr>\n",
       "      <th>2</th>\n",
       "      <td>3</td>\n",
<<<<<<< HEAD
       "      <td>0.19</td>\n",
=======
       "      <td>0.22</td>\n",
>>>>>>> 3494219c22a99d8613813b3b4e27310006e90944
       "    </tr>\n",
       "    <tr>\n",
       "      <th>3</th>\n",
       "      <td>4</td>\n",
<<<<<<< HEAD
       "      <td>0.19</td>\n",
=======
       "      <td>0.12</td>\n",
>>>>>>> 3494219c22a99d8613813b3b4e27310006e90944
       "    </tr>\n",
       "    <tr>\n",
       "      <th>4</th>\n",
       "      <td>5</td>\n",
<<<<<<< HEAD
       "      <td>0.15</td>\n",
=======
       "      <td>0.17</td>\n",
>>>>>>> 3494219c22a99d8613813b3b4e27310006e90944
       "    </tr>\n",
       "    <tr>\n",
       "      <th>5</th>\n",
       "      <td>6</td>\n",
<<<<<<< HEAD
       "      <td>0.11</td>\n",
=======
       "      <td>0.15</td>\n",
>>>>>>> 3494219c22a99d8613813b3b4e27310006e90944
       "    </tr>\n",
       "  </tbody>\n",
       "</table>\n",
       "</div>"
      ],
      "text/plain": [
<<<<<<< HEAD
       "   die_face  proportion\n",
       "0         1        0.21\n",
       "1         2        0.15\n",
       "2         3        0.19\n",
       "3         4        0.19\n",
       "4         5        0.15\n",
       "5         6        0.11"
      ]
     },
     "execution_count": 67,
=======
       "   die_face  rel_freq\n",
       "0         1      0.13\n",
       "1         2      0.21\n",
       "2         3      0.22\n",
       "3         4      0.12\n",
       "4         5      0.17\n",
       "5         6      0.15"
      ]
     },
     "execution_count": 60,
>>>>>>> 3494219c22a99d8613813b3b4e27310006e90944
     "metadata": {},
     "output_type": "execute_result"
    }
   ],
   "source": [
    "die_simulator_freq(6, 100)"
   ]
  },
  {
   "cell_type": "code",
   "execution_count": 68,
   "metadata": {
    "slideshow": {
     "slide_type": "skip"
    }
   },
   "outputs": [
    {
     "ename": "ModuleNotFoundError",
     "evalue": "No module named 'bokeh'",
     "output_type": "error",
     "traceback": [
      "\u001b[0;31m---------------------------------------------------------------------------\u001b[0m",
      "\u001b[0;31mModuleNotFoundError\u001b[0m                       Traceback (most recent call last)",
      "Cell \u001b[0;32mIn[68], line 1\u001b[0m\n\u001b[0;32m----> 1\u001b[0m \u001b[38;5;28;01mfrom\u001b[39;00m \u001b[38;5;21;01mbokeh\u001b[39;00m\u001b[38;5;21;01m.\u001b[39;00m\u001b[38;5;21;01mlayouts\u001b[39;00m \u001b[38;5;28;01mimport\u001b[39;00m column,row\n\u001b[1;32m      2\u001b[0m \u001b[38;5;28;01mfrom\u001b[39;00m \u001b[38;5;21;01mbokeh\u001b[39;00m\u001b[38;5;21;01m.\u001b[39;00m\u001b[38;5;21;01mmodels\u001b[39;00m \u001b[38;5;28;01mimport\u001b[39;00m ColumnDataSource, TextInput, Button\n\u001b[1;32m      3\u001b[0m \u001b[38;5;28;01mfrom\u001b[39;00m \u001b[38;5;21;01mbokeh\u001b[39;00m\u001b[38;5;21;01m.\u001b[39;00m\u001b[38;5;21;01mplotting\u001b[39;00m \u001b[38;5;28;01mimport\u001b[39;00m figure, output_file, show\n",
      "\u001b[0;31mModuleNotFoundError\u001b[0m: No module named 'bokeh'"
     ]
    }
   ],
   "source": [
    "\n",
    "from bokeh.layouts import column,row\n",
    "from bokeh.models import ColumnDataSource, TextInput, Button\n",
    "from bokeh.plotting import figure, output_file, show\n",
    "from bokeh.io import show, output_notebook\n",
    "from bokeh.themes import Theme\n",
    "import yaml\n",
    "import numpy as np\n",
    "output_notebook()\n",
    "\n",
    "def bk_app(doc):\n",
    "    \n",
    "    rel_freq = die_simulator_freq(die_sides = 6, num_trials = 30)\n",
    "    \n",
    "    source = ColumnDataSource(rel_freq)\n",
    "    \n",
    "    # Create plots and widgets\n",
    "    plot = figure(title = \"Relative Frequency\", plot_width=400, plot_height=400 )\n",
    "\n",
    "    plot.vbar(x = 'die_face', top = 'rel_freq', source = source, color = 'lightblue', line_color = 'black' ) \n",
    "\n",
    "\n",
    "    # Create text input object\n",
    "    \n",
    "    n_trial = TextInput(title=\"Number of trials\", value = '30')\n",
    "    refresh = Button(label=\"Update\", button_type=\"success\")\n",
    "\n",
    "\n",
    "    # Adding callback code\n",
    "    def callback(attr, old, new):\n",
    "        N = n_trial.value\n",
    "        rel_freq = die_simulator_freq(die_sides = 6, num_trials = int(N)) \n",
    "        source.data = rel_freq\n",
    "        \n",
    "    def update():\n",
    "        N = n_trial.value\n",
    "        rel_freq = die_simulator_freq(die_sides = 6, num_trials = int(N)) \n",
    "        source.data = rel_freq\n",
    "\n",
    "\n",
    "    n_trial.on_change('value', callback)\n",
    "    refresh.on_click(update)\n",
    "\n",
    "\n",
    "    doc.add_root(row(\n",
    "        plot,\n",
    "        column(n_trial, refresh),\n",
    "    ))\n",
    "\n",
    "    doc.theme = Theme(json=yaml.load(\"\"\"\n",
    "        attrs:\n",
    "            Figure:\n",
    "                background_fill_color: white\n",
    "                outline_line_color: white\n",
    "                toolbar_location: above\n",
    "                height: 450\n",
    "                width: 450\n",
    "    \"\"\", Loader=yaml.FullLoader))\n",
    "\n"
   ]
  },
  {
   "cell_type": "code",
   "execution_count": 69,
   "metadata": {
    "scrolled": true,
    "slideshow": {
     "slide_type": "slide"
    }
   },
   "outputs": [
    {
     "ename": "NameError",
     "evalue": "name 'show' is not defined",
     "output_type": "error",
     "traceback": [
      "\u001b[0;31m---------------------------------------------------------------------------\u001b[0m",
      "\u001b[0;31mNameError\u001b[0m                                 Traceback (most recent call last)",
      "Cell \u001b[0;32mIn[69], line 1\u001b[0m\n\u001b[0;32m----> 1\u001b[0m \u001b[43mshow\u001b[49m(bk_app, notebook_url\u001b[38;5;241m=\u001b[39m\u001b[38;5;124m\"\u001b[39m\u001b[38;5;124mhttp://localhost:8889\u001b[39m\u001b[38;5;124m\"\u001b[39m)\n",
      "\u001b[0;31mNameError\u001b[0m: name 'show' is not defined"
     ]
    }
   ],
   "source": [
    "show(bk_app, notebook_url=\"http://localhost:8889\")"
   ]
  },
  {
   "cell_type": "markdown",
   "metadata": {
    "cell_style": "center",
    "slideshow": {
     "slide_type": "slide"
    }
   },
   "source": [
    "#### Probability strictly speaking\n",
    "\n",
    "$$P(b) = \\lim_{N\\rightarrow\\infty} \\frac{n_b}{N} $$\n",
    "\n",
    "\n",
    "Idea is that relative frequency get close to probability:\n",
    "- when number of trials ($N$) gets large enough."
   ]
  },
  {
   "cell_type": "markdown",
   "metadata": {
    "slideshow": {
     "slide_type": "slide"
    }
   },
   "source": [
    "#### Random Variables"
   ]
  },
  {
   "cell_type": "markdown",
   "metadata": {
    "cell_style": "split",
    "slideshow": {
     "slide_type": "slide"
    }
   },
   "source": [
    "Often makes sense to represent members of sample space $S$ as numbers:\n",
    "\n",
    "$$ f: S \\rightarrow \\mathbb{R} $$ \n",
    "- want arithmetic and algebraic operations over them"
   ]
  },
  {
   "cell_type": "markdown",
   "metadata": {
    "cell_style": "split",
    "slideshow": {
     "slide_type": "fragment"
    }
   },
   "source": [
    "A sample space $S =\\{L, R \\} $:\n",
    "- random left/right walker in 1D\n",
    "- molecular diffusion in a confined channel"
   ]
  },
  {
   "cell_type": "markdown",
   "metadata": {
    "cell_style": "center",
    "slideshow": {
     "slide_type": "fragment"
    }
   },
   "source": [
    "<center><img src = \"images/molecular_walk.png\" ></center>\n",
    "<center> "
   ]
  },
  {
   "cell_type": "markdown",
   "metadata": {
    "cell_style": "center",
    "slideshow": {
     "slide_type": "subslide"
    }
   },
   "source": [
    "<center><img src = \"images/molecular_walk.png\" ></center>\n",
    "<center> "
   ]
  },
  {
   "cell_type": "markdown",
   "metadata": {
    "cell_style": "split",
    "slideshow": {
     "slide_type": "fragment"
    }
   },
   "source": [
    "Suggests a transformation of sample space:\n",
    "\n",
    "$$ L \\rightarrow X = -1 $$\n",
    "$$ R \\rightarrow X = +1 $$\n",
    "\n",
    "where $X$ is a random variable representing the outcome of taking a step."
   ]
  },
  {
   "cell_type": "markdown",
   "metadata": {
    "cell_style": "split",
    "slideshow": {
     "slide_type": "fragment"
    }
   },
   "source": [
    "That is $X$ could take on either a value $\\pm 1$ on a given trial."
   ]
  },
  {
   "cell_type": "markdown",
   "metadata": {
    "cell_style": "split",
    "slideshow": {
     "slide_type": "fragment"
    }
   },
   "source": [
    "Probability $P$ defined over random variables:\n",
    "- unbiased walker\n",
    "$$ P(X = - 1) = \\frac{1}{2} $$\n",
    "$$ P(X = + 1) = \\frac{1}{2} $$"
   ]
  },
  {
   "cell_type": "markdown",
   "metadata": {
    "cell_style": "split",
    "slideshow": {
     "slide_type": "slide"
    }
   },
   "source": [
    "Naturally define mathematical operations to create new random variables:\n",
    "\n",
    "- Define overall displacement after N steps:\n",
    "$$ D = X_1 + X_2 + ... + X_N = \\\\ \\sum_{i=1}^N X_i $$ with $D$ as well as each $X_i$ random variables."
   ]
  },
  {
   "cell_type": "markdown",
   "metadata": {
    "cell_style": "split",
    "slideshow": {
     "slide_type": "fragment"
    }
   },
   "source": [
    "Deriving quantitative relationships over/between random variables:\n",
    "- will see this a lot in statistics \n",
    "- machine learning\n",
    "- etc."
   ]
  },
  {
   "cell_type": "markdown",
   "metadata": {
    "cell_style": "split",
    "slideshow": {
     "slide_type": "fragment"
    }
   },
   "source": [
    "- Set-theoretic probability not apt for these sorts of calculations.\n",
    "- In general both formulations will be useful throughout course."
   ]
  },
  {
   "cell_type": "markdown",
   "metadata": {
    "cell_style": "center",
    "slideshow": {
     "slide_type": "slide"
    }
   },
   "source": [
    "**Probability with multiple observables** \n",
    "\n",
    "- When two or more observables are measured during a single trial."
   ]
  },
  {
   "cell_type": "code",
   "execution_count": 70,
   "metadata": {
    "slideshow": {
     "slide_type": "skip"
    }
   },
   "outputs": [
    {
     "ename": "NameError",
     "evalue": "name 'np' is not defined",
     "output_type": "error",
     "traceback": [
      "\u001b[0;31m---------------------------------------------------------------------------\u001b[0m",
      "\u001b[0;31mNameError\u001b[0m                                 Traceback (most recent call last)",
      "Cell \u001b[0;32mIn[70], line 3\u001b[0m\n\u001b[1;32m      1\u001b[0m x_res \u001b[38;5;241m=\u001b[39m [\u001b[38;5;241m1\u001b[39m,\u001b[38;5;241m2\u001b[39m,\u001b[38;5;241m3\u001b[39m,\u001b[38;5;241m4\u001b[39m,\u001b[38;5;241m5\u001b[39m]\n\u001b[1;32m      2\u001b[0m y_res \u001b[38;5;241m=\u001b[39m [\u001b[38;5;241m0\u001b[39m,\u001b[38;5;241m1\u001b[39m,\u001b[38;5;241m2\u001b[39m]\n\u001b[0;32m----> 3\u001b[0m counts \u001b[38;5;241m=\u001b[39m \u001b[43mnp\u001b[49m\u001b[38;5;241m.\u001b[39marray([[\u001b[38;5;241m80\u001b[39m, \u001b[38;5;241m75\u001b[39m, \u001b[38;5;241m90\u001b[39m], [\u001b[38;5;241m40\u001b[39m, \u001b[38;5;241m65\u001b[39m, \u001b[38;5;241m34\u001b[39m], [\u001b[38;5;241m30\u001b[39m, \u001b[38;5;241m82\u001b[39m, \u001b[38;5;241m100\u001b[39m], [\u001b[38;5;241m76\u001b[39m, \u001b[38;5;241m82\u001b[39m, \u001b[38;5;241m75\u001b[39m], [\u001b[38;5;241m60\u001b[39m, \u001b[38;5;241m75\u001b[39m, \u001b[38;5;241m70\u001b[39m]])\u001b[38;5;241m.\u001b[39mT\n\u001b[1;32m      5\u001b[0m gamerating_df \u001b[38;5;241m=\u001b[39m pd\u001b[38;5;241m.\u001b[39mDataFrame(counts, columns \u001b[38;5;241m=\u001b[39m x_res)\n\u001b[1;32m      6\u001b[0m gamerating_df\u001b[38;5;241m.\u001b[39mindex\u001b[38;5;241m.\u001b[39mname \u001b[38;5;241m=\u001b[39m \u001b[38;5;124m'\u001b[39m\u001b[38;5;124mGFX rating\u001b[39m\u001b[38;5;124m'\u001b[39m\n",
      "\u001b[0;31mNameError\u001b[0m: name 'np' is not defined"
     ]
    }
   ],
   "source": [
    "x_res = [1,2,3,4,5]\n",
    "y_res = [0,1,2]\n",
    "counts = np.array([[80, 75, 90], [40, 65, 34], [30, 82, 100], [76, 82, 75], [60, 75, 70]]).T\n",
    "\n",
    "gamerating_df = pd.DataFrame(counts, columns = x_res)\n",
    "gamerating_df.index.name = 'GFX rating'\n",
    "gamerating_df.columns.name = 'Gameplay rating'"
   ]
  },
  {
   "cell_type": "markdown",
   "metadata": {
    "cell_style": "split",
    "slideshow": {
     "slide_type": "slide"
    }
   },
   "source": [
    "X and Y correspond to observables.\n",
    "\n",
    "Correspond to two entries in questionaire on a game:\n",
    "\n",
    "- X = Gameplay rating (1-5)\n",
    "- Y = Satisfied with graphics (disagree/ambivalent/agree - 0,1,2)"
   ]
  },
  {
   "cell_type": "markdown",
   "metadata": {
    "cell_style": "split",
    "slideshow": {
     "slide_type": "fragment"
    }
   },
   "source": [
    "Measuring the response of a participant:\n",
    "- X,Y treated as jointly measured random variables."
   ]
  },
  {
   "cell_type": "markdown",
   "metadata": {
    "cell_style": "center",
    "slideshow": {
     "slide_type": "slide"
    }
   },
   "source": [
    "Get count distribution across X,Y for a group of respondents:"
   ]
  },
  {
   "cell_type": "code",
   "execution_count": 71,
   "metadata": {
    "cell_style": "split",
    "slideshow": {
     "slide_type": "slide"
    }
   },
   "outputs": [
    {
     "ename": "NameError",
     "evalue": "name 'gamerating_df' is not defined",
     "output_type": "error",
     "traceback": [
      "\u001b[0;31m---------------------------------------------------------------------------\u001b[0m",
      "\u001b[0;31mNameError\u001b[0m                                 Traceback (most recent call last)",
      "Cell \u001b[0;32mIn[71], line 1\u001b[0m\n\u001b[0;32m----> 1\u001b[0m \u001b[43mgamerating_df\u001b[49m\n",
      "\u001b[0;31mNameError\u001b[0m: name 'gamerating_df' is not defined"
     ]
    }
   ],
   "source": [
    "gamerating_df"
   ]
  },
  {
   "cell_type": "markdown",
   "metadata": {
    "cell_style": "split",
    "slideshow": {
     "slide_type": "slide"
    }
   },
   "source": [
    "Get the relative frequency for a given joint gameplay / GFX rating:\n",
    "\n",
    "- Normalize by number of reviews."
   ]
  },
  {
   "cell_type": "code",
   "execution_count": 703,
   "metadata": {
    "cell_style": "split",
    "slideshow": {
     "slide_type": "fragment"
    }
   },
   "outputs": [
    {
     "name": "stdout",
     "output_type": "stream",
     "text": [
      "1034\n"
     ]
    }
   ],
   "source": [
    "# sums over all values in the table\n",
    "\n",
    "N_reviews = gamerating_df.sum().sum()\n",
    "print(N_reviews)"
   ]
  },
  {
   "cell_type": "markdown",
   "metadata": {
    "slideshow": {
     "slide_type": "slide"
    }
   },
   "source": [
    "Constructing the joint relative frequency table:\n",
    "- The relative frequency as "
   ]
  },
  {
   "cell_type": "code",
   "execution_count": 546,
   "metadata": {
    "cell_style": "split",
    "slideshow": {
     "slide_type": "fragment"
    }
   },
   "outputs": [
    {
     "data": {
      "text/html": [
       "<div>\n",
       "<style scoped>\n",
       "    .dataframe tbody tr th:only-of-type {\n",
       "        vertical-align: middle;\n",
       "    }\n",
       "\n",
       "    .dataframe tbody tr th {\n",
       "        vertical-align: top;\n",
       "    }\n",
       "\n",
       "    .dataframe thead th {\n",
       "        text-align: right;\n",
       "    }\n",
       "</style>\n",
       "<table border=\"1\" class=\"dataframe\">\n",
       "  <thead>\n",
       "    <tr style=\"text-align: right;\">\n",
       "      <th>Gameplay rating</th>\n",
       "      <th>1</th>\n",
       "      <th>2</th>\n",
       "      <th>3</th>\n",
       "      <th>4</th>\n",
       "      <th>5</th>\n",
       "    </tr>\n",
       "    <tr>\n",
       "      <th>GFX rating</th>\n",
       "      <th></th>\n",
       "      <th></th>\n",
       "      <th></th>\n",
       "      <th></th>\n",
       "      <th></th>\n",
       "    </tr>\n",
       "  </thead>\n",
       "  <tbody>\n",
       "    <tr>\n",
       "      <th>0</th>\n",
       "      <td>0.077369</td>\n",
       "      <td>0.038685</td>\n",
       "      <td>0.029014</td>\n",
       "      <td>0.073501</td>\n",
       "      <td>0.058027</td>\n",
       "    </tr>\n",
       "    <tr>\n",
       "      <th>1</th>\n",
       "      <td>0.072534</td>\n",
       "      <td>0.062863</td>\n",
       "      <td>0.079304</td>\n",
       "      <td>0.079304</td>\n",
       "      <td>0.072534</td>\n",
       "    </tr>\n",
       "    <tr>\n",
       "      <th>2</th>\n",
       "      <td>0.087041</td>\n",
       "      <td>0.032882</td>\n",
       "      <td>0.096712</td>\n",
       "      <td>0.072534</td>\n",
       "      <td>0.067698</td>\n",
       "    </tr>\n",
       "  </tbody>\n",
       "</table>\n",
       "</div>"
      ],
      "text/plain": [
       "Gameplay rating         1         2         3         4         5\n",
       "GFX rating                                                       \n",
       "0                0.077369  0.038685  0.029014  0.073501  0.058027\n",
       "1                0.072534  0.062863  0.079304  0.079304  0.072534\n",
       "2                0.087041  0.032882  0.096712  0.072534  0.067698"
      ]
     },
     "execution_count": 546,
     "metadata": {},
     "output_type": "execute_result"
    }
   ],
   "source": [
    "joint_rel_freq = gamerating_df/N_reviews\n",
    "joint_rel_freq"
   ]
  },
  {
   "cell_type": "markdown",
   "metadata": {
    "cell_style": "split",
    "slideshow": {
     "slide_type": "slide"
    }
   },
   "source": [
    "Summing over all rows/columns"
   ]
  },
  {
   "cell_type": "code",
   "execution_count": 704,
   "metadata": {
    "cell_style": "split",
    "slideshow": {
     "slide_type": "fragment"
    }
   },
   "outputs": [
    {
     "data": {
      "text/plain": [
       "0.9999999999999999"
      ]
     },
     "execution_count": 704,
     "metadata": {},
     "output_type": "execute_result"
    }
   ],
   "source": [
    "joint_rel_freq.values.sum()"
   ]
  },
  {
   "cell_type": "code",
   "execution_count": 550,
   "metadata": {
    "cell_style": "split",
    "slideshow": {
     "slide_type": "slide"
    }
   },
   "outputs": [
    {
     "data": {
      "text/html": [
       "<div>\n",
       "<style scoped>\n",
       "    .dataframe tbody tr th:only-of-type {\n",
       "        vertical-align: middle;\n",
       "    }\n",
       "\n",
       "    .dataframe tbody tr th {\n",
       "        vertical-align: top;\n",
       "    }\n",
       "\n",
       "    .dataframe thead th {\n",
       "        text-align: right;\n",
       "    }\n",
       "</style>\n",
       "<table border=\"1\" class=\"dataframe\">\n",
       "  <thead>\n",
       "    <tr style=\"text-align: right;\">\n",
       "      <th>Gameplay rating</th>\n",
       "      <th>1</th>\n",
       "      <th>2</th>\n",
       "      <th>3</th>\n",
       "      <th>4</th>\n",
       "      <th>5</th>\n",
       "    </tr>\n",
       "    <tr>\n",
       "      <th>GFX rating</th>\n",
       "      <th></th>\n",
       "      <th></th>\n",
       "      <th></th>\n",
       "      <th></th>\n",
       "      <th></th>\n",
       "    </tr>\n",
       "  </thead>\n",
       "  <tbody>\n",
       "    <tr>\n",
       "      <th>0</th>\n",
       "      <td>0.077369</td>\n",
       "      <td>0.038685</td>\n",
       "      <td>0.029014</td>\n",
       "      <td>0.073501</td>\n",
       "      <td>0.058027</td>\n",
       "    </tr>\n",
       "    <tr>\n",
       "      <th>1</th>\n",
       "      <td>0.072534</td>\n",
       "      <td>0.062863</td>\n",
       "      <td>0.079304</td>\n",
       "      <td>0.079304</td>\n",
       "      <td>0.072534</td>\n",
       "    </tr>\n",
       "    <tr>\n",
       "      <th>2</th>\n",
       "      <td>0.087041</td>\n",
       "      <td>0.032882</td>\n",
       "      <td>0.096712</td>\n",
       "      <td>0.072534</td>\n",
       "      <td>0.067698</td>\n",
       "    </tr>\n",
       "  </tbody>\n",
       "</table>\n",
       "</div>"
      ],
      "text/plain": [
       "Gameplay rating         1         2         3         4         5\n",
       "GFX rating                                                       \n",
       "0                0.077369  0.038685  0.029014  0.073501  0.058027\n",
       "1                0.072534  0.062863  0.079304  0.079304  0.072534\n",
       "2                0.087041  0.032882  0.096712  0.072534  0.067698"
      ]
     },
     "execution_count": 550,
     "metadata": {},
     "output_type": "execute_result"
    }
   ],
   "source": [
    "joint_rel_freq = gamerating_df/N_reviews\n",
    "joint_rel_freq"
   ]
  },
  {
   "cell_type": "markdown",
   "metadata": {
    "cell_style": "split",
    "slideshow": {
     "slide_type": "fragment"
    }
   },
   "source": [
    "The joint relative frequency of polling a respondent rating the game with:\n",
    "- Gameplay rating 3\n",
    "- Graphics rating 2"
   ]
  },
  {
   "cell_type": "code",
   "execution_count": 551,
   "metadata": {
    "cell_style": "center",
    "slideshow": {
     "slide_type": "fragment"
    }
   },
   "outputs": [
    {
     "data": {
      "text/plain": [
       "0.09671179883945841"
      ]
     },
     "execution_count": 551,
     "metadata": {},
     "output_type": "execute_result"
    }
   ],
   "source": [
    "joint_rel_freq.loc[2, 3]"
   ]
  },
  {
   "cell_type": "markdown",
   "metadata": {
    "cell_style": "center",
    "slideshow": {
     "slide_type": "subslide"
    }
   },
   "source": [
    "#### Joint Probability\n",
    "\n",
    "The probability that a given respondent, drawn at random had $X = x_i$ and $Y = y_j$.\n",
    "\n",
    "In large N limit, we define it as a probability:\n",
    "    \n",
    "\n",
    "$$ P(X = x_i, Y = y_j) = \\lim_{N\\rightarrow\\infty} \\frac{n_{ij}}{N} $$\n"
   ]
  },
  {
   "cell_type": "markdown",
   "metadata": {
    "cell_style": "split",
    "slideshow": {
     "slide_type": "subslide"
    }
   },
   "source": [
    "Can also define joint probability in terms of set elements of the event space:\n",
    "\n",
    "$$ P(A,B) = P(A \\cap B) $$\n",
    "\n",
    "<center><img src=\"Images/aunionB.png\" width=\"400\"/></center>"
   ]
  },
  {
   "cell_type": "markdown",
   "metadata": {
    "cell_style": "split",
    "slideshow": {
     "slide_type": "fragment"
    }
   },
   "source": [
    "- If $A$ represents $X = x_i$\n",
    "- and $B$ represents $Y = y_j$\n",
    "- then $$ P(A \\cap B) $$\n",
    "\n",
    "represents $P(X=x_i, Y = y_j)$"
   ]
  },
  {
   "cell_type": "markdown",
   "metadata": {
    "slideshow": {
     "slide_type": "slide"
    }
   },
   "source": [
    "#### The marginal probability\n",
    "- just the probabilities for each variable individually\n",
    "- irrespective of other vriable"
   ]
  },
  {
   "cell_type": "code",
   "execution_count": 584,
   "metadata": {
    "cell_style": "split",
    "slideshow": {
     "slide_type": "-"
    }
   },
   "outputs": [
    {
     "data": {
      "text/html": [
       "<div>\n",
       "<style scoped>\n",
       "    .dataframe tbody tr th:only-of-type {\n",
       "        vertical-align: middle;\n",
       "    }\n",
       "\n",
       "    .dataframe tbody tr th {\n",
       "        vertical-align: top;\n",
       "    }\n",
       "\n",
       "    .dataframe thead th {\n",
       "        text-align: right;\n",
       "    }\n",
       "</style>\n",
       "<table border=\"1\" class=\"dataframe\">\n",
       "  <thead>\n",
       "    <tr style=\"text-align: right;\">\n",
       "      <th>Gameplay rating</th>\n",
       "      <th>1</th>\n",
       "      <th>2</th>\n",
       "      <th>3</th>\n",
       "      <th>4</th>\n",
       "      <th>5</th>\n",
       "    </tr>\n",
       "    <tr>\n",
       "      <th>GFX rating</th>\n",
       "      <th></th>\n",
       "      <th></th>\n",
       "      <th></th>\n",
       "      <th></th>\n",
       "      <th></th>\n",
       "    </tr>\n",
       "  </thead>\n",
       "  <tbody>\n",
       "    <tr>\n",
       "      <th>0</th>\n",
       "      <td>80</td>\n",
       "      <td>40</td>\n",
       "      <td>30</td>\n",
       "      <td>76</td>\n",
       "      <td>60</td>\n",
       "    </tr>\n",
       "    <tr>\n",
       "      <th>1</th>\n",
       "      <td>75</td>\n",
       "      <td>65</td>\n",
       "      <td>82</td>\n",
       "      <td>82</td>\n",
       "      <td>75</td>\n",
       "    </tr>\n",
       "    <tr>\n",
       "      <th>2</th>\n",
       "      <td>90</td>\n",
       "      <td>34</td>\n",
       "      <td>100</td>\n",
       "      <td>75</td>\n",
       "      <td>70</td>\n",
       "    </tr>\n",
       "  </tbody>\n",
       "</table>\n",
       "</div>"
      ],
      "text/plain": [
       "Gameplay rating   1   2    3   4   5\n",
       "GFX rating                          \n",
       "0                80  40   30  76  60\n",
       "1                75  65   82  82  75\n",
       "2                90  34  100  75  70"
      ]
     },
     "execution_count": 584,
     "metadata": {},
     "output_type": "execute_result"
    }
   ],
   "source": [
    "gamerating_df "
   ]
  },
  {
   "cell_type": "markdown",
   "metadata": {
    "cell_style": "split",
    "slideshow": {
     "slide_type": "-"
    }
   },
   "source": [
    "Calculating marginal relative frequency for GFX rating:\n",
    "- Sum over all gameplay rating values"
   ]
  },
  {
   "cell_type": "code",
   "execution_count": 589,
   "metadata": {
    "cell_style": "split",
    "scrolled": true,
    "slideshow": {
     "slide_type": "-"
    }
   },
   "outputs": [
    {
     "data": {
      "text/plain": [
       "GFX rating\n",
       "0    286\n",
       "1    379\n",
       "2    369\n",
       "dtype: int64"
      ]
     },
     "execution_count": 589,
     "metadata": {},
     "output_type": "execute_result"
    }
   ],
   "source": [
    "gamerating_df.sum(axis = 1)"
   ]
  },
  {
   "cell_type": "markdown",
   "metadata": {
    "cell_style": "split",
    "slideshow": {
     "slide_type": "slide"
    }
   },
   "source": [
    "These are counts of respondents:\n",
    "- for each graphics rating (regardless of their gameplay rating)\n",
    "\n",
    "Normalize by total respondent number for marginal relative frequency "
   ]
  },
  {
   "cell_type": "code",
   "execution_count": 607,
   "metadata": {
    "cell_style": "split",
    "slideshow": {
     "slide_type": "fragment"
    }
   },
   "outputs": [
    {
     "name": "stdout",
     "output_type": "stream",
     "text": [
      "GFX rating\n",
      "0    0.276596\n",
      "1    0.366538\n",
      "2    0.356867\n",
      "dtype: float64\n",
      "1.0\n"
     ]
    }
   ],
   "source": [
    "marg_on_Y = \\\n",
    "gamerating_df.sum(axis = 1)/N_reviews\n",
    "\n",
    "print(marg_on_Y)\n",
    "# does it satisfy the axioms?\n",
    "print(marg_on_Y.sum())"
   ]
  },
  {
   "cell_type": "markdown",
   "metadata": {
    "slideshow": {
     "slide_type": "slide"
    }
   },
   "source": [
    "Which can be computed directly from the table of joint relative frequencies:"
   ]
  },
  {
   "cell_type": "code",
   "execution_count": 598,
   "metadata": {
    "cell_style": "split",
    "slideshow": {
     "slide_type": "fragment"
    }
   },
   "outputs": [
    {
     "data": {
      "text/html": [
       "<div>\n",
       "<style scoped>\n",
       "    .dataframe tbody tr th:only-of-type {\n",
       "        vertical-align: middle;\n",
       "    }\n",
       "\n",
       "    .dataframe tbody tr th {\n",
       "        vertical-align: top;\n",
       "    }\n",
       "\n",
       "    .dataframe thead th {\n",
       "        text-align: right;\n",
       "    }\n",
       "</style>\n",
       "<table border=\"1\" class=\"dataframe\">\n",
       "  <thead>\n",
       "    <tr style=\"text-align: right;\">\n",
       "      <th>Gameplay rating</th>\n",
       "      <th>1</th>\n",
       "      <th>2</th>\n",
       "      <th>3</th>\n",
       "      <th>4</th>\n",
       "      <th>5</th>\n",
       "    </tr>\n",
       "    <tr>\n",
       "      <th>GFX rating</th>\n",
       "      <th></th>\n",
       "      <th></th>\n",
       "      <th></th>\n",
       "      <th></th>\n",
       "      <th></th>\n",
       "    </tr>\n",
       "  </thead>\n",
       "  <tbody>\n",
       "    <tr>\n",
       "      <th>0</th>\n",
       "      <td>0.077369</td>\n",
       "      <td>0.038685</td>\n",
       "      <td>0.029014</td>\n",
       "      <td>0.073501</td>\n",
       "      <td>0.058027</td>\n",
       "    </tr>\n",
       "    <tr>\n",
       "      <th>1</th>\n",
       "      <td>0.072534</td>\n",
       "      <td>0.062863</td>\n",
       "      <td>0.079304</td>\n",
       "      <td>0.079304</td>\n",
       "      <td>0.072534</td>\n",
       "    </tr>\n",
       "    <tr>\n",
       "      <th>2</th>\n",
       "      <td>0.087041</td>\n",
       "      <td>0.032882</td>\n",
       "      <td>0.096712</td>\n",
       "      <td>0.072534</td>\n",
       "      <td>0.067698</td>\n",
       "    </tr>\n",
       "  </tbody>\n",
       "</table>\n",
       "</div>"
      ],
      "text/plain": [
       "Gameplay rating         1         2         3         4         5\n",
       "GFX rating                                                       \n",
       "0                0.077369  0.038685  0.029014  0.073501  0.058027\n",
       "1                0.072534  0.062863  0.079304  0.079304  0.072534\n",
       "2                0.087041  0.032882  0.096712  0.072534  0.067698"
      ]
     },
     "execution_count": 598,
     "metadata": {},
     "output_type": "execute_result"
    }
   ],
   "source": [
    "joint_rel_freq"
   ]
  },
  {
   "cell_type": "code",
   "execution_count": 600,
   "metadata": {
    "cell_style": "split",
    "slideshow": {
     "slide_type": "fragment"
    }
   },
   "outputs": [
    {
     "data": {
      "text/plain": [
       "GFX rating\n",
       "0    0.276596\n",
       "1    0.366538\n",
       "2    0.356867\n",
       "dtype: float64"
      ]
     },
     "execution_count": 600,
     "metadata": {},
     "output_type": "execute_result"
    }
   ],
   "source": [
    "joint_rel_freq.sum(axis = 1)"
   ]
  },
  {
   "cell_type": "code",
   "execution_count": 601,
   "metadata": {
    "cell_style": "split",
    "slideshow": {
     "slide_type": "-"
    }
   },
   "outputs": [
    {
     "data": {
      "text/plain": [
       "GFX rating\n",
       "0    0.276596\n",
       "1    0.366538\n",
       "2    0.356867\n",
       "dtype: float64"
      ]
     },
     "execution_count": 601,
     "metadata": {},
     "output_type": "execute_result"
    }
   ],
   "source": [
    "marg_on_Y"
   ]
  },
  {
   "cell_type": "markdown",
   "metadata": {
    "slideshow": {
     "slide_type": "subslide"
    }
   },
   "source": [
    "#### Marginal Probability\n",
    "\n",
    "Taking this to large $N$ limit to define a probability:\n",
    "\n",
    "$$ P(Y = Y_j) = \\lim_{N\\rightarrow \\infty}\\sum_{i=1}^5\\frac{n_{ij}}{N} $$ \n",
    "<br>\n",
    "<center>OR</center>\n",
    "<br>\n",
    "$$ P(Y = Y_j) = \\sum_{i=1}^5 P(X = x_i, Y=y_j) $$ \n",
    "\n",
    "*Marginal on Y*: $P(Y)$\n"
   ]
  },
  {
   "cell_type": "markdown",
   "metadata": {
    "slideshow": {
     "slide_type": "slide"
    }
   },
   "source": [
    "Can obviously do a similar thing to get marginal on $X$:\n",
    "- $P(X)$"
   ]
  },
  {
   "cell_type": "code",
   "execution_count": 603,
   "metadata": {
    "slideshow": {
     "slide_type": "-"
    }
   },
   "outputs": [
    {
     "data": {
      "text/plain": [
       "Gameplay rating\n",
       "1    0.236944\n",
       "2    0.134429\n",
       "3    0.205029\n",
       "4    0.225338\n",
       "5    0.198259\n",
       "dtype: float64"
      ]
     },
     "execution_count": 603,
     "metadata": {},
     "output_type": "execute_result"
    }
   ],
   "source": [
    "joint_rel_freq.sum(axis = 0)"
   ]
  },
  {
   "cell_type": "markdown",
   "metadata": {
    "slideshow": {
     "slide_type": "slide"
    }
   },
   "source": [
    "#### Conditional Probability"
   ]
  },
  {
   "cell_type": "markdown",
   "metadata": {
    "cell_style": "center",
    "slideshow": {
     "slide_type": "fragment"
    }
   },
   "source": [
    "Often want to know:\n",
    "- probability of one variable **given** that:\n",
    "    - we know that the others already take on a specific value"
   ]
  },
  {
   "cell_type": "code",
   "execution_count": 605,
   "metadata": {
    "cell_style": "split",
    "scrolled": true,
    "slideshow": {
     "slide_type": "slide"
    }
   },
   "outputs": [
    {
     "data": {
      "text/html": [
       "<div>\n",
       "<style scoped>\n",
       "    .dataframe tbody tr th:only-of-type {\n",
       "        vertical-align: middle;\n",
       "    }\n",
       "\n",
       "    .dataframe tbody tr th {\n",
       "        vertical-align: top;\n",
       "    }\n",
       "\n",
       "    .dataframe thead th {\n",
       "        text-align: right;\n",
       "    }\n",
       "</style>\n",
       "<table border=\"1\" class=\"dataframe\">\n",
       "  <thead>\n",
       "    <tr style=\"text-align: right;\">\n",
       "      <th>Gameplay rating</th>\n",
       "      <th>1</th>\n",
       "      <th>2</th>\n",
       "      <th>3</th>\n",
       "      <th>4</th>\n",
       "      <th>5</th>\n",
       "    </tr>\n",
       "    <tr>\n",
       "      <th>GFX rating</th>\n",
       "      <th></th>\n",
       "      <th></th>\n",
       "      <th></th>\n",
       "      <th></th>\n",
       "      <th></th>\n",
       "    </tr>\n",
       "  </thead>\n",
       "  <tbody>\n",
       "    <tr>\n",
       "      <th>0</th>\n",
       "      <td>80</td>\n",
       "      <td>40</td>\n",
       "      <td>30</td>\n",
       "      <td>76</td>\n",
       "      <td>60</td>\n",
       "    </tr>\n",
       "    <tr>\n",
       "      <th>1</th>\n",
       "      <td>75</td>\n",
       "      <td>65</td>\n",
       "      <td>82</td>\n",
       "      <td>82</td>\n",
       "      <td>75</td>\n",
       "    </tr>\n",
       "    <tr>\n",
       "      <th>2</th>\n",
       "      <td>90</td>\n",
       "      <td>34</td>\n",
       "      <td>100</td>\n",
       "      <td>75</td>\n",
       "      <td>70</td>\n",
       "    </tr>\n",
       "  </tbody>\n",
       "</table>\n",
       "</div>"
      ],
      "text/plain": [
       "Gameplay rating   1   2    3   4   5\n",
       "GFX rating                          \n",
       "0                80  40   30  76  60\n",
       "1                75  65   82  82  75\n",
       "2                90  34  100  75  70"
      ]
     },
     "execution_count": 605,
     "metadata": {},
     "output_type": "execute_result"
    }
   ],
   "source": [
    "gamerating_df"
   ]
  },
  {
   "cell_type": "markdown",
   "metadata": {
    "cell_style": "split",
    "slideshow": {
     "slide_type": "-"
    }
   },
   "source": [
    "Given that the respondents rated the GFX rating with a 0"
   ]
  },
  {
   "cell_type": "code",
   "execution_count": 705,
   "metadata": {
    "cell_style": "split",
    "slideshow": {
     "slide_type": "-"
    }
   },
   "outputs": [
    {
     "data": {
      "text/plain": [
       "Gameplay rating\n",
       "1    80\n",
       "2    40\n",
       "3    30\n",
       "4    76\n",
       "5    60\n",
       "Name: 0, dtype: int32"
      ]
     },
     "execution_count": 705,
     "metadata": {},
     "output_type": "execute_result"
    }
   ],
   "source": [
    "gamerating_df.loc[0,:]"
   ]
  },
  {
   "cell_type": "markdown",
   "metadata": {
    "slideshow": {
     "slide_type": "slide"
    }
   },
   "source": [
    "Evaluate relative frequency of a gameplay rating **given** that GFX rating was 0"
   ]
  },
  {
   "cell_type": "code",
   "execution_count": 618,
   "metadata": {
    "cell_style": "split",
    "slideshow": {
     "slide_type": "fragment"
    }
   },
   "outputs": [
    {
     "data": {
      "text/plain": [
       "Gameplay rating\n",
       "1    80\n",
       "2    40\n",
       "3    30\n",
       "4    76\n",
       "5    60\n",
       "Name: 0, dtype: int32"
      ]
     },
     "execution_count": 618,
     "metadata": {},
     "output_type": "execute_result"
    }
   ],
   "source": [
    "givenGFXzero = gamerating_df.loc[0,:]\n",
    "givenGFXzero"
   ]
  },
  {
   "cell_type": "markdown",
   "metadata": {
    "cell_style": "split",
    "slideshow": {
     "slide_type": "slide"
    }
   },
   "source": [
    "Need to normalize by counts:\n",
    "- just where GFX rating was 0."
   ]
  },
  {
   "cell_type": "code",
   "execution_count": 624,
   "metadata": {
    "cell_style": "split",
    "slideshow": {
     "slide_type": "-"
    }
   },
   "outputs": [
    {
     "data": {
      "text/plain": [
       "Gameplay rating\n",
       "1    0.279720\n",
       "2    0.139860\n",
       "3    0.104895\n",
       "4    0.265734\n",
       "5    0.209790\n",
       "Name: 0, dtype: float64"
      ]
     },
     "execution_count": 624,
     "metadata": {},
     "output_type": "execute_result"
    }
   ],
   "source": [
    "relconditional = \\\n",
    "givenGFXzero/givenGFXzero.sum()\n",
    "\n",
    "relconditional"
   ]
  },
  {
   "cell_type": "markdown",
   "metadata": {
    "slideshow": {
     "slide_type": "slide"
    }
   },
   "source": [
    "What we did, more theoretically"
   ]
  },
  {
   "cell_type": "markdown",
   "metadata": {
    "cell_style": "split",
    "slideshow": {
     "slide_type": "fragment"
    }
   },
   "source": [
    "Among the possibilities satisfying condition $Y = y_j $:\n",
    "- the conditional probability that $X = x_i$  is\n",
    "$$ P(X = x_i | Y = y_j ) = \\lim_{N\\rightarrow \\infty}{\\frac{n_{ij}}{r_j}} $$"
   ]
  },
  {
   "cell_type": "markdown",
   "metadata": {
    "cell_style": "split",
    "slideshow": {
     "slide_type": "-"
    }
   },
   "source": [
    "<center><img src=\"Images/joint_table.png\" width=\"400\"/></center>"
   ]
  },
  {
   "cell_type": "markdown",
   "metadata": {
    "slideshow": {
     "slide_type": "slide"
    }
   },
   "source": [
    "The distribution of $X$ (gameplay rating) given that $Y$ (graphics) was 1 will be different:\n",
    "- taking a subset of users satisfying condition on $Y$\n",
    "- calculating proabilities over only those users satisfying condition."
   ]
  },
  {
   "cell_type": "code",
   "execution_count": 706,
   "metadata": {
    "cell_style": "split",
    "slideshow": {
     "slide_type": "subslide"
    }
   },
   "outputs": [
    {
     "data": {
      "text/plain": [
       "Gameplay rating\n",
       "1    0.197889\n",
       "2    0.171504\n",
       "3    0.216359\n",
       "4    0.216359\n",
       "5    0.197889\n",
       "Name: 1, dtype: float64"
      ]
     },
     "execution_count": 706,
     "metadata": {},
     "output_type": "execute_result"
    }
   ],
   "source": [
    "givenGFXone = gamerating_df.loc[1,:]\n",
    "givenGFXone/givenGFXone.sum()"
   ]
  },
  {
   "cell_type": "code",
   "execution_count": 707,
   "metadata": {
    "cell_style": "split",
    "slideshow": {
     "slide_type": "fragment"
    }
   },
   "outputs": [
    {
     "data": {
      "text/plain": [
       "Gameplay rating\n",
       "1    0.279720\n",
       "2    0.139860\n",
       "3    0.104895\n",
       "4    0.265734\n",
       "5    0.209790\n",
       "Name: 0, dtype: float64"
      ]
     },
     "execution_count": 707,
     "metadata": {},
     "output_type": "execute_result"
    }
   ],
   "source": [
    "# compared to conditional when Y = 0\n",
    "\n",
    "relconditional"
   ]
  },
  {
   "cell_type": "markdown",
   "metadata": {
    "cell_style": "split",
    "slideshow": {
     "slide_type": "fragment"
    }
   },
   "source": [
    "$$ P(X | Y = 1) $$"
   ]
  },
  {
   "cell_type": "markdown",
   "metadata": {
    "cell_style": "split",
    "slideshow": {
     "slide_type": "-"
    }
   },
   "source": [
    "$$ P(X | Y = 0) $$"
   ]
  },
  {
   "cell_type": "markdown",
   "metadata": {
    "slideshow": {
     "slide_type": "slide"
    }
   },
   "source": [
    "Obviously we could also relative frequencies / probabilities for $Y$ conditioned on $X$:\n",
    " $$ P(Y | X = x_i) $$"
   ]
  },
  {
   "cell_type": "code",
   "execution_count": 631,
   "metadata": {
    "cell_style": "split",
    "slideshow": {
     "slide_type": "fragment"
    }
   },
   "outputs": [
    {
     "data": {
      "text/html": [
       "<div>\n",
       "<style scoped>\n",
       "    .dataframe tbody tr th:only-of-type {\n",
       "        vertical-align: middle;\n",
       "    }\n",
       "\n",
       "    .dataframe tbody tr th {\n",
       "        vertical-align: top;\n",
       "    }\n",
       "\n",
       "    .dataframe thead th {\n",
       "        text-align: right;\n",
       "    }\n",
       "</style>\n",
       "<table border=\"1\" class=\"dataframe\">\n",
       "  <thead>\n",
       "    <tr style=\"text-align: right;\">\n",
       "      <th>Gameplay rating</th>\n",
       "      <th>1</th>\n",
       "      <th>2</th>\n",
       "      <th>3</th>\n",
       "      <th>4</th>\n",
       "      <th>5</th>\n",
       "    </tr>\n",
       "    <tr>\n",
       "      <th>GFX rating</th>\n",
       "      <th></th>\n",
       "      <th></th>\n",
       "      <th></th>\n",
       "      <th></th>\n",
       "      <th></th>\n",
       "    </tr>\n",
       "  </thead>\n",
       "  <tbody>\n",
       "    <tr>\n",
       "      <th>0</th>\n",
       "      <td>80</td>\n",
       "      <td>40</td>\n",
       "      <td>30</td>\n",
       "      <td>76</td>\n",
       "      <td>60</td>\n",
       "    </tr>\n",
       "    <tr>\n",
       "      <th>1</th>\n",
       "      <td>75</td>\n",
       "      <td>65</td>\n",
       "      <td>82</td>\n",
       "      <td>82</td>\n",
       "      <td>75</td>\n",
       "    </tr>\n",
       "    <tr>\n",
       "      <th>2</th>\n",
       "      <td>90</td>\n",
       "      <td>34</td>\n",
       "      <td>100</td>\n",
       "      <td>75</td>\n",
       "      <td>70</td>\n",
       "    </tr>\n",
       "  </tbody>\n",
       "</table>\n",
       "</div>"
      ],
      "text/plain": [
       "Gameplay rating   1   2    3   4   5\n",
       "GFX rating                          \n",
       "0                80  40   30  76  60\n",
       "1                75  65   82  82  75\n",
       "2                90  34  100  75  70"
      ]
     },
     "execution_count": 631,
     "metadata": {},
     "output_type": "execute_result"
    }
   ],
   "source": [
    "gamerating_df"
   ]
  },
  {
   "cell_type": "markdown",
   "metadata": {
    "cell_style": "split",
    "slideshow": {
     "slide_type": "fragment"
    }
   },
   "source": [
    "Get relative frequencies for $y$:\n",
    "- Given $X = 2$"
   ]
  },
  {
   "cell_type": "code",
   "execution_count": 708,
   "metadata": {
    "cell_style": "split"
   },
   "outputs": [
    {
     "data": {
      "text/plain": [
       "GFX rating\n",
       "0    40\n",
       "1    65\n",
       "2    34\n",
       "Name: 2, dtype: int32"
      ]
     },
     "execution_count": 708,
     "metadata": {},
     "output_type": "execute_result"
    }
   ],
   "source": [
    "gamerating_df.loc[:, 2]"
   ]
  },
  {
   "cell_type": "markdown",
   "metadata": {
    "cell_style": "split",
    "slideshow": {
     "slide_type": "slide"
    }
   },
   "source": [
    "The normalized by dividing out sum over Y values:"
   ]
  },
  {
   "cell_type": "code",
   "execution_count": 709,
   "metadata": {
    "cell_style": "split"
   },
   "outputs": [
    {
     "data": {
      "text/plain": [
       "GFX rating\n",
       "0    0.287770\n",
       "1    0.467626\n",
       "2    0.244604\n",
       "Name: 2, dtype: float64"
      ]
     },
     "execution_count": 709,
     "metadata": {},
     "output_type": "execute_result"
    }
   ],
   "source": [
    "norm = gamerating_df.loc[:,2].sum()\n",
    "rel_freqYonX2 = gamerating_df.loc[:,2]/ norm\n",
    "rel_freqYonX2 "
   ]
  },
  {
   "cell_type": "markdown",
   "metadata": {
    "cell_style": "split",
    "slideshow": {
     "slide_type": "slide"
    }
   },
   "source": [
    "Normalization for conditional: \n",
    "- total counts for which $X = x_i$ \n",
    "\n",
    "with $x_i = 2$"
   ]
  },
  {
   "cell_type": "markdown",
   "metadata": {
    "cell_style": "split",
    "slideshow": {
     "slide_type": "fragment"
    }
   },
   "source": [
    "But this is basically just the marginal:\n",
    "$$ P(X = x_i) = \\frac{n_{X=x_i}}{N} $$\n",
    "\n",
    "where $N$ is total number of responses/trials"
   ]
  },
  {
   "cell_type": "markdown",
   "metadata": {
    "cell_style": "split",
    "slideshow": {
     "slide_type": "slide"
    }
   },
   "source": [
    "The conditional:\n",
    "$$ P(Y| X = x_i) = \\frac{n_{Y = y_j, X = x_i}}{n_{X=x_i}} $$\n",
    "becomes:\n",
    "$$ P(Y| X = x_i) =\\frac{n_{Y = y_j, X = x_i} / N}{P(X=x_i)} $$"
   ]
  },
  {
   "cell_type": "markdown",
   "metadata": {
    "cell_style": "split",
    "slideshow": {
     "slide_type": "-"
    }
   },
   "source": [
    "subbing in the marginal:\n",
    " $$ n_{X=x_i} = NP(X =x_i) $$"
   ]
  },
  {
   "cell_type": "markdown",
   "metadata": {
    "cell_style": "split",
    "slideshow": {
     "slide_type": "subslide"
    }
   },
   "source": [
    "With recognition that:\n",
    "\n",
    "$$ \\frac{n_{Y = y_j, X = x_i}}{N} = P( X = x_i, Y = y_j) $$\n",
    "\n",
    "is the joint probability"
   ]
  },
  {
   "cell_type": "markdown",
   "metadata": {
    "cell_style": "split",
    "slideshow": {
     "slide_type": "fragment"
    }
   },
   "source": [
    "we arrive at a very nice result:\n",
    "$$ P(Y| X = x_i) =\\frac{n_{Y = y_j, X = x_i} / N}{P(X=x_i)} $$\n",
    "\n",
    "becomes\n",
    "\n",
    "$$ P(Y| X = x_i) =\\frac{P(Y = y_j, X = x_i)}{P(X=x_i)} $$"
   ]
  },
  {
   "cell_type": "markdown",
   "metadata": {
    "cell_style": "split",
    "slideshow": {
     "slide_type": "slide"
    }
   },
   "source": [
    "The formula:\n",
    "$$ P(Y| X) =\\frac{P(X, Y)}{P(X)} $$"
   ]
  },
  {
   "cell_type": "markdown",
   "metadata": {
    "cell_style": "split",
    "slideshow": {
     "slide_type": "-"
    }
   },
   "source": [
    "Written in event space notation as:\n",
    "    \n",
    "   $$  P(A | B) = \\frac{ P(A \\cap B)}{P(B)} $$"
   ]
  },
  {
   "cell_type": "markdown",
   "metadata": {
    "slideshow": {
     "slide_type": "-"
    }
   },
   "source": [
    "joins the conditional, the joint, and the marginal probabilities in a single relationship"
   ]
  },
  {
   "cell_type": "markdown",
   "metadata": {
    "slideshow": {
     "slide_type": "slide"
    }
   },
   "source": [
    "Don't believe me?\n",
    "\n",
    "- Get probability that a respondent rated 3 for gameplay given they rated graphics at 0.\n",
    "\n",
    "$$ P(gplay = 3 | gfx = 0) = \\frac{P(gplay = 3 , gfx = 0)}{P(gfx = 0)} $$"
   ]
  },
  {
   "cell_type": "markdown",
   "metadata": {
    "cell_style": "split",
    "slideshow": {
     "slide_type": "subslide"
    }
   },
   "source": [
    "The joint:\n",
    "\n",
    "$$ P(gplay = 3 , gfx = 0) $$\n",
    "\n",
    "probability that a respondent rated 3 for gameplay and rated graphics at 0 **out of all respondents**"
   ]
  },
  {
   "cell_type": "code",
   "execution_count": 666,
   "metadata": {
    "cell_style": "split",
    "slideshow": {
     "slide_type": "slide"
    }
   },
   "outputs": [
    {
     "name": "stdout",
     "output_type": "stream",
     "text": [
      "0.029013539651837523\n"
     ]
    },
    {
     "data": {
      "text/html": [
       "<div>\n",
       "<style scoped>\n",
       "    .dataframe tbody tr th:only-of-type {\n",
       "        vertical-align: middle;\n",
       "    }\n",
       "\n",
       "    .dataframe tbody tr th {\n",
       "        vertical-align: top;\n",
       "    }\n",
       "\n",
       "    .dataframe thead th {\n",
       "        text-align: right;\n",
       "    }\n",
       "</style>\n",
       "<table border=\"1\" class=\"dataframe\">\n",
       "  <thead>\n",
       "    <tr style=\"text-align: right;\">\n",
       "      <th>Gameplay rating</th>\n",
       "      <th>1</th>\n",
       "      <th>2</th>\n",
       "      <th>3</th>\n",
       "      <th>4</th>\n",
       "      <th>5</th>\n",
       "    </tr>\n",
       "    <tr>\n",
       "      <th>GFX rating</th>\n",
       "      <th></th>\n",
       "      <th></th>\n",
       "      <th></th>\n",
       "      <th></th>\n",
       "      <th></th>\n",
       "    </tr>\n",
       "  </thead>\n",
       "  <tbody>\n",
       "    <tr>\n",
       "      <th>0</th>\n",
       "      <td>0.077369</td>\n",
       "      <td>0.038685</td>\n",
       "      <td>0.029014</td>\n",
       "      <td>0.073501</td>\n",
       "      <td>0.058027</td>\n",
       "    </tr>\n",
       "    <tr>\n",
       "      <th>1</th>\n",
       "      <td>0.072534</td>\n",
       "      <td>0.062863</td>\n",
       "      <td>0.079304</td>\n",
       "      <td>0.079304</td>\n",
       "      <td>0.072534</td>\n",
       "    </tr>\n",
       "    <tr>\n",
       "      <th>2</th>\n",
       "      <td>0.087041</td>\n",
       "      <td>0.032882</td>\n",
       "      <td>0.096712</td>\n",
       "      <td>0.072534</td>\n",
       "      <td>0.067698</td>\n",
       "    </tr>\n",
       "  </tbody>\n",
       "</table>\n",
       "</div>"
      ],
      "text/plain": [
       "Gameplay rating         1         2         3         4         5\n",
       "GFX rating                                                       \n",
       "0                0.077369  0.038685  0.029014  0.073501  0.058027\n",
       "1                0.072534  0.062863  0.079304  0.079304  0.072534\n",
       "2                0.087041  0.032882  0.096712  0.072534  0.067698"
      ]
     },
     "execution_count": 666,
     "metadata": {},
     "output_type": "execute_result"
    }
   ],
   "source": [
    "# get the joint\n",
    "joint_03 = joint_rel_freq.loc[0,3]\n",
    "print(joint_03)\n",
    "joint_rel_freq"
   ]
  },
  {
   "cell_type": "markdown",
   "metadata": {
    "cell_style": "split",
    "slideshow": {
     "slide_type": "subslide"
    }
   },
   "source": [
    "The marginal:\n",
    "\n",
    "$$ P(gfx = 0) $$\n",
    "\n",
    "- probability that respondent rated graphics at 0 **out of all respondents** \n",
    "- regardless of what they rated gameplay"
   ]
  },
  {
   "cell_type": "code",
   "execution_count": 667,
   "metadata": {
    "cell_style": "split",
    "slideshow": {
     "slide_type": "fragment"
    }
   },
   "outputs": [
    {
     "name": "stdout",
     "output_type": "stream",
     "text": [
      "0.2765957446808511\n"
     ]
    },
    {
     "data": {
      "text/plain": [
       "GFX rating\n",
       "0    0.276596\n",
       "1    0.366538\n",
       "2    0.356867\n",
       "dtype: float64"
      ]
     },
     "execution_count": 667,
     "metadata": {},
     "output_type": "execute_result"
    }
   ],
   "source": [
    "# get the marginal of graphics\n",
    "marginal_0 = joint_rel_freq.sum(axis = 1)[0]\n",
    "print(marginal_0)\n",
    "joint_rel_freq.sum(axis = 1)"
   ]
  },
  {
   "cell_type": "markdown",
   "metadata": {
    "slideshow": {
     "slide_type": "slide"
    }
   },
   "source": [
    "Recall when we first calculated conditional:\n",
    "- in subset of those who rated $gfx = 0$\n",
    "- probability of different gameplay ratings"
   ]
  },
  {
   "cell_type": "code",
   "execution_count": 663,
   "metadata": {
    "cell_style": "split",
    "slideshow": {
     "slide_type": "fragment"
    }
   },
   "outputs": [
    {
     "data": {
      "text/plain": [
       "Gameplay rating\n",
       "1    0.279720\n",
       "2    0.139860\n",
       "3    0.104895\n",
       "4    0.265734\n",
       "5    0.209790\n",
       "Name: 0, dtype: float64"
      ]
     },
     "execution_count": 663,
     "metadata": {},
     "output_type": "execute_result"
    }
   ],
   "source": [
    "# compared to conditional for gameplay \n",
    "# given graphics = 0\n",
    "\n",
    "relconditional"
   ]
  },
  {
   "cell_type": "markdown",
   "metadata": {
    "cell_style": "split",
    "slideshow": {
     "slide_type": "fragment"
    }
   },
   "source": [
    "Compare to calculation from formula:\n",
    "\n",
    "$$ P(gplay = 3 | gfx = 0) \\\\\n",
    "= \\frac{P(gplay = 3 , gfx = 0)}{P(gfx = 0)} $$"
   ]
  },
  {
   "cell_type": "code",
   "execution_count": 660,
   "metadata": {
    "cell_style": "split",
    "slideshow": {
     "slide_type": "-"
    }
   },
   "outputs": [
    {
     "data": {
      "text/plain": [
       "0.10489510489510488"
      ]
     },
     "execution_count": 660,
     "metadata": {},
     "output_type": "execute_result"
    }
   ],
   "source": [
    "joint_03/marginal_0"
   ]
  },
  {
   "cell_type": "markdown",
   "metadata": {
    "cell_style": "split",
    "slideshow": {
     "slide_type": "slide"
    }
   },
   "source": [
    "Simple interpretation:\n",
    "\n",
    "$$ P(X = x_i, Y = y_j) = \\\\ P(X = x_i | Y = y_j)P(Y = y_j) $$\n",
    "\n",
    "Probability $X= x_i$ and $Y = y_j$ :\n",
    "- out of **all possibilities for X and Y**"
   ]
  },
  {
   "cell_type": "markdown",
   "metadata": {
    "cell_style": "split",
    "slideshow": {
     "slide_type": "fragment"
    }
   },
   "source": [
    "is product of:\n",
    "$$ P(X = x_i | Y = y_j) $$ \n",
    "\n",
    "Probability $X= x_i$: \n",
    "- out of a  subset: all possibilities for $X$ and where $ Y = y_j$"
   ]
  },
  {
   "cell_type": "markdown",
   "metadata": {
    "cell_style": "split",
    "slideshow": {
     "slide_type": "fragment"
    }
   },
   "source": [
    "$$ P(Y = y_j) $$ \n",
    "\n",
    "- probability that given $ Y = y_j$ out of all possibilities for $Y$"
   ]
  },
  {
   "cell_type": "markdown",
   "metadata": {
    "slideshow": {
     "slide_type": "slide"
    }
   },
   "source": [
    "#### Statistically Independent Events\n",
    "- when random variables independent:\n",
    "- joint probability takes on simple form"
   ]
  },
  {
   "cell_type": "markdown",
   "metadata": {
    "cell_style": "split",
    "slideshow": {
     "slide_type": "subslide"
    }
   },
   "source": [
    "$$ P(X = x_i, Y = y_j) = \\\\ P(X = x_i | Y = y_j)P(Y = y_j) $$\n",
    "\n",
    "Probability $X= x_i$ and $Y = y_j$ :\n",
    "- out of **all possibilities for X and Y**\n",
    "\n"
   ]
  },
  {
   "cell_type": "markdown",
   "metadata": {
    "cell_style": "split",
    "slideshow": {
     "slide_type": "fragment"
    }
   },
   "source": [
    "$$P(X = x_i | Y = y_j) = P(X = x_i)$$\n",
    "\n",
    "- as the probability of getting X value\n",
    "- doesn't depend on Y."
   ]
  },
  {
   "cell_type": "markdown",
   "metadata": {
    "cell_style": "split",
    "slideshow": {
     "slide_type": "subslide"
    }
   },
   "source": [
    "For independent events:\n",
    "    \n",
    "$$ P(X = x_i, Y = y_j) = \\\\ P(X = x_i)P(Y = y_j) $$\n",
    "\n",
    "joint is product of probabilities."
   ]
  },
  {
   "cell_type": "markdown",
   "metadata": {
    "cell_style": "split",
    "slideshow": {
     "slide_type": "fragment"
    }
   },
   "source": [
    "or in set theory notation:\n",
    "\n",
    "$$ P(A \\cap B) = P(A)P(B) $$"
   ]
  },
  {
   "cell_type": "markdown",
   "metadata": {
    "slideshow": {
     "slide_type": "slide"
    }
   },
   "source": [
    "Another consequence of connection between conditionals, marginals, and joint:"
   ]
  },
  {
   "cell_type": "markdown",
   "metadata": {
    "cell_style": "split",
    "slideshow": {
     "slide_type": "-"
    }
   },
   "source": [
    "$$ P(X = x_i, Y = y_j) = \\\\ P(X = x_i | Y = y_j)P(Y = y_j) $$"
   ]
  },
  {
   "cell_type": "markdown",
   "metadata": {
    "cell_style": "split",
    "slideshow": {
     "slide_type": "-"
    }
   },
   "source": [
    "$$ P(X = x_i, Y = y_j) = \\\\ P(Y = x_j | X = x_i)P(X = x_i) $$"
   ]
  },
  {
   "cell_type": "markdown",
   "metadata": {
    "slideshow": {
     "slide_type": "-"
    }
   },
   "source": [
    "Doesn't matter which way we go"
   ]
  },
  {
   "cell_type": "markdown",
   "metadata": {
    "slideshow": {
     "slide_type": "slide"
    }
   },
   "source": [
    "Naturally lead to Bayes' theorem: we'll interpret later.\n",
    "\n",
    "$$ P(X = x_i | Y = y_j)P(Y = y_j) = P(Y = y_j | X = x_i)P(X = x_i)$$\n",
    "<br><br>\n",
    "\n",
    "implies:\n",
    "\n",
    "<center><b>Bayes' Theorem</b></center>\n",
    "\n",
    "$$ P(X = x_i | Y = y_j) = \\frac{P(Y = y_j | X = x_i)P(X = x_i)}{P(Y = y_j)} $$"
   ]
  },
  {
   "cell_type": "markdown",
   "metadata": {
    "cell_style": "center",
    "slideshow": {
     "slide_type": "slide"
    }
   },
   "source": [
    "Theorem seems very innocuous: \n",
    "- We will interpret it later..\n",
    "- Of great practical importance in machine learning and statistics.\n",
    "- One of the most important theorems concerning the foundation of knowledge."
   ]
  }
 ],
 "metadata": {
  "celltoolbar": "Slideshow",
  "kernelspec": {
   "display_name": "Python 3 (ipykernel)",
   "language": "python",
   "name": "python3"
  },
  "language_info": {
   "codemirror_mode": {
    "name": "ipython",
    "version": 3
   },
   "file_extension": ".py",
   "mimetype": "text/x-python",
   "name": "python",
   "nbconvert_exporter": "python",
   "pygments_lexer": "ipython3",
   "version": "3.9.16"
  }
 },
 "nbformat": 4,
 "nbformat_minor": 4
}
